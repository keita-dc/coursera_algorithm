{
 "cells": [
  {
   "cell_type": "markdown",
   "metadata": {},
   "source": [
    "# Finding the closest pair of points"
   ]
  },
  {
   "cell_type": "code",
   "execution_count": 2,
   "metadata": {},
   "outputs": [],
   "source": [
    "import numpy as np\n",
    "import pandas as pd\n",
    "import matplotlib.pyplot as plt\n",
    "import time\n",
    "\n",
    "plt.style.use(\"ggplot\")\n",
    "\n",
    "%matplotlib inline"
   ]
  },
  {
   "cell_type": "markdown",
   "metadata": {},
   "source": [
    "## Merge Sort"
   ]
  },
  {
   "cell_type": "code",
   "execution_count": 3,
   "metadata": {},
   "outputs": [],
   "source": [
    "X = np.random.rand(64,2)"
   ]
  },
  {
   "cell_type": "code",
   "execution_count": 4,
   "metadata": {},
   "outputs": [],
   "source": [
    "def sort_2(array):\n",
    "    if array[0][0] > array[1][0]:\n",
    "        return np.array([array[1], array[0]])\n",
    "    else:\n",
    "        return array"
   ]
  },
  {
   "cell_type": "code",
   "execution_count": 5,
   "metadata": {
    "scrolled": true
   },
   "outputs": [
    {
     "data": {
      "text/plain": [
       "array([[0.55026409, 0.8207673 ],\n",
       "       [0.50570866, 0.34651486]])"
      ]
     },
     "execution_count": 5,
     "metadata": {},
     "output_type": "execute_result"
    }
   ],
   "source": [
    "X[:2]"
   ]
  },
  {
   "cell_type": "code",
   "execution_count": 6,
   "metadata": {},
   "outputs": [
    {
     "data": {
      "text/plain": [
       "array([[0.50570866, 0.34651486],\n",
       "       [0.55026409, 0.8207673 ]])"
      ]
     },
     "execution_count": 6,
     "metadata": {},
     "output_type": "execute_result"
    }
   ],
   "source": [
    "sort_2(X[:2])"
   ]
  },
  {
   "cell_type": "code",
   "execution_count": 7,
   "metadata": {},
   "outputs": [],
   "source": [
    "def sort_nest(array, coordinate=0):\n",
    "    \n",
    "    length = len(array)\n",
    "    \n",
    "    if length == 2:\n",
    "        if array[0][coordinate] > array[1][coordinate]:\n",
    "            return np.array([array[1], array[0]])\n",
    "        else:\n",
    "            return array\n",
    "    \n",
    "    elif length > 2:\n",
    "        array_l = array[:int(length/2)]\n",
    "        array_r = array[int(length/2):]\n",
    "        array_l_sorted = sort_nest(array_l, coordinate)\n",
    "        array_r_sorted = sort_nest(array_r, coordinate)\n",
    "\n",
    "        l = 0\n",
    "        r = 0\n",
    "        \n",
    "        sorted_list = []\n",
    "        \n",
    "        for i in range(length):\n",
    "            if r == int(length/2):\n",
    "                sorted_list.append(array_l_sorted[l])\n",
    "                l += 1\n",
    "\n",
    "            elif l == int(length/2):\n",
    "                sorted_list.append(array_r_sorted[r])\n",
    "                r += 1             \n",
    "                \n",
    "            elif array_l_sorted[l][coordinate] > array_r_sorted[r][coordinate]:\n",
    "                sorted_list.append(array_r_sorted[r])\n",
    "                r += 1\n",
    "                \n",
    "            elif array_l_sorted[l][coordinate] < array_r_sorted[r][coordinate]:\n",
    "                sorted_list.append(array_l_sorted[l])\n",
    "                l += 1\n",
    "        \n",
    "        return np.array(sorted_list)"
   ]
  },
  {
   "cell_type": "code",
   "execution_count": 8,
   "metadata": {},
   "outputs": [],
   "source": [
    "X = np.random.rand(64,2)"
   ]
  },
  {
   "cell_type": "code",
   "execution_count": 9,
   "metadata": {
    "scrolled": true
   },
   "outputs": [
    {
     "data": {
      "text/plain": [
       "array([[0.01529908, 0.3711909 ],\n",
       "       [0.03005296, 0.41914522],\n",
       "       [0.0516552 , 0.39108384],\n",
       "       [0.05423615, 0.92300069],\n",
       "       [0.07114883, 0.98150559],\n",
       "       [0.0781999 , 0.57644516],\n",
       "       [0.0973662 , 0.30505327],\n",
       "       [0.13762921, 0.41093139],\n",
       "       [0.18842968, 0.52238147],\n",
       "       [0.19702496, 0.45547581],\n",
       "       [0.21701202, 0.78791032],\n",
       "       [0.24040931, 0.71148793],\n",
       "       [0.25226902, 0.96224241],\n",
       "       [0.25454039, 0.8901669 ],\n",
       "       [0.27669288, 0.40683754],\n",
       "       [0.28401163, 0.09256923],\n",
       "       [0.29049384, 0.55023994],\n",
       "       [0.33154667, 0.70403426],\n",
       "       [0.33929704, 0.0840711 ],\n",
       "       [0.35398407, 0.46950218],\n",
       "       [0.3647425 , 0.65646873],\n",
       "       [0.36682162, 0.56787907],\n",
       "       [0.37254659, 0.54324203],\n",
       "       [0.39512821, 0.06450089],\n",
       "       [0.40345661, 0.65639206],\n",
       "       [0.41204047, 0.6977378 ],\n",
       "       [0.44647855, 0.08548637],\n",
       "       [0.45305754, 0.43221481],\n",
       "       [0.45427037, 0.24993938],\n",
       "       [0.46808929, 0.11455478],\n",
       "       [0.47492322, 0.203652  ],\n",
       "       [0.49293483, 0.51777876],\n",
       "       [0.4946016 , 0.22893034],\n",
       "       [0.49557203, 0.48373369],\n",
       "       [0.50390448, 0.62245626],\n",
       "       [0.51144704, 0.19002927],\n",
       "       [0.51246244, 0.77657532],\n",
       "       [0.51449013, 0.19243359],\n",
       "       [0.53293929, 0.45140407],\n",
       "       [0.53868439, 0.27783848],\n",
       "       [0.54101189, 0.5270598 ],\n",
       "       [0.5541772 , 0.44899207],\n",
       "       [0.58612119, 0.05318223],\n",
       "       [0.61655227, 0.96547038],\n",
       "       [0.66489491, 0.46141819],\n",
       "       [0.7040286 , 0.93925699],\n",
       "       [0.71060735, 0.26365598],\n",
       "       [0.71627359, 0.70757811],\n",
       "       [0.72414748, 0.09029236],\n",
       "       [0.76482625, 0.15292016],\n",
       "       [0.76945118, 0.53979697],\n",
       "       [0.78924412, 0.90540846],\n",
       "       [0.80231361, 0.17597065],\n",
       "       [0.81267585, 0.33841882],\n",
       "       [0.81351381, 0.6922632 ],\n",
       "       [0.83286647, 0.54428527],\n",
       "       [0.86224844, 0.01321787],\n",
       "       [0.86689454, 0.36975463],\n",
       "       [0.89963557, 0.16772273],\n",
       "       [0.92415206, 0.5218742 ],\n",
       "       [0.94181296, 0.38797227],\n",
       "       [0.94665027, 0.85672539],\n",
       "       [0.94998008, 0.18764625],\n",
       "       [0.96401987, 0.00586892]])"
      ]
     },
     "execution_count": 9,
     "metadata": {},
     "output_type": "execute_result"
    }
   ],
   "source": [
    "sort_nest(X)"
   ]
  },
  {
   "cell_type": "code",
   "execution_count": 10,
   "metadata": {},
   "outputs": [
    {
     "data": {
      "text/plain": [
       "array([[0.96401987, 0.00586892],\n",
       "       [0.86224844, 0.01321787],\n",
       "       [0.58612119, 0.05318223],\n",
       "       [0.39512821, 0.06450089],\n",
       "       [0.33929704, 0.0840711 ],\n",
       "       [0.44647855, 0.08548637],\n",
       "       [0.72414748, 0.09029236],\n",
       "       [0.28401163, 0.09256923],\n",
       "       [0.46808929, 0.11455478],\n",
       "       [0.76482625, 0.15292016],\n",
       "       [0.89963557, 0.16772273],\n",
       "       [0.80231361, 0.17597065],\n",
       "       [0.94998008, 0.18764625],\n",
       "       [0.51144704, 0.19002927],\n",
       "       [0.51449013, 0.19243359],\n",
       "       [0.47492322, 0.203652  ],\n",
       "       [0.4946016 , 0.22893034],\n",
       "       [0.45427037, 0.24993938],\n",
       "       [0.71060735, 0.26365598],\n",
       "       [0.53868439, 0.27783848],\n",
       "       [0.0973662 , 0.30505327],\n",
       "       [0.81267585, 0.33841882],\n",
       "       [0.86689454, 0.36975463],\n",
       "       [0.01529908, 0.3711909 ],\n",
       "       [0.94181296, 0.38797227],\n",
       "       [0.0516552 , 0.39108384],\n",
       "       [0.27669288, 0.40683754],\n",
       "       [0.13762921, 0.41093139],\n",
       "       [0.03005296, 0.41914522],\n",
       "       [0.45305754, 0.43221481],\n",
       "       [0.5541772 , 0.44899207],\n",
       "       [0.53293929, 0.45140407],\n",
       "       [0.19702496, 0.45547581],\n",
       "       [0.66489491, 0.46141819],\n",
       "       [0.35398407, 0.46950218],\n",
       "       [0.49557203, 0.48373369],\n",
       "       [0.49293483, 0.51777876],\n",
       "       [0.92415206, 0.5218742 ],\n",
       "       [0.18842968, 0.52238147],\n",
       "       [0.54101189, 0.5270598 ],\n",
       "       [0.76945118, 0.53979697],\n",
       "       [0.37254659, 0.54324203],\n",
       "       [0.83286647, 0.54428527],\n",
       "       [0.29049384, 0.55023994],\n",
       "       [0.36682162, 0.56787907],\n",
       "       [0.0781999 , 0.57644516],\n",
       "       [0.50390448, 0.62245626],\n",
       "       [0.40345661, 0.65639206],\n",
       "       [0.3647425 , 0.65646873],\n",
       "       [0.81351381, 0.6922632 ],\n",
       "       [0.41204047, 0.6977378 ],\n",
       "       [0.33154667, 0.70403426],\n",
       "       [0.71627359, 0.70757811],\n",
       "       [0.24040931, 0.71148793],\n",
       "       [0.51246244, 0.77657532],\n",
       "       [0.21701202, 0.78791032],\n",
       "       [0.94665027, 0.85672539],\n",
       "       [0.25454039, 0.8901669 ],\n",
       "       [0.78924412, 0.90540846],\n",
       "       [0.05423615, 0.92300069],\n",
       "       [0.7040286 , 0.93925699],\n",
       "       [0.25226902, 0.96224241],\n",
       "       [0.61655227, 0.96547038],\n",
       "       [0.07114883, 0.98150559]])"
      ]
     },
     "execution_count": 10,
     "metadata": {},
     "output_type": "execute_result"
    }
   ],
   "source": [
    "sort_nest(X, 1)"
   ]
  },
  {
   "cell_type": "markdown",
   "metadata": {},
   "source": [
    "## Finding the Closest Pair of Points"
   ]
  },
  {
   "cell_type": "code",
   "execution_count": 11,
   "metadata": {},
   "outputs": [],
   "source": [
    "X = np.random.rand(64,2)"
   ]
  },
  {
   "cell_type": "code",
   "execution_count": 12,
   "metadata": {},
   "outputs": [],
   "source": [
    "def find_closest_4(array):\n",
    "    sorted_array = sort_nest(array)\n",
    "    length = len(sorted_array)\n",
    "    array_l = sorted_array[:int(length/2)]\n",
    "    array_r = sorted_array[int(length/2):]\n",
    "    \n",
    "    dict_l = {}\n",
    "    dict_l[\"p1\"] = array_l[0]\n",
    "    dict_l[\"p2\"] = array_l[1]\n",
    "    dict_l[\"distance\"] = np.sqrt((array_l[0][0]-array_l[1][0])**2+(array_l[0][1]-array_l[1][1])**2)\n",
    "    dict_r = {}\n",
    "    dict_r[\"p1\"] = array_r[0]\n",
    "    dict_r[\"p2\"] = array_r[1]\n",
    "    dict_r[\"distance\"] = np.sqrt((array_r[0][0]-array_r[1][0])**2+(array_r[0][1]-array_r[1][1])**2)\n",
    "    \n",
    "    if dict_l[\"distance\"] > dict_r[\"distance\"]:\n",
    "        dict_both = dict_r\n",
    "    else:\n",
    "        dict_both = dict_l\n",
    "    \n",
    "    distance_cross = np.sqrt((sorted_array[1][0]-sorted_array[2][0])**2+(sorted_array[1][1]-sorted_array[2][1])**2)\n",
    "    if distance_cross > dict_both[\"distance\"]:\n",
    "        dict_final = dict_both\n",
    "    else:\n",
    "        dict_final = {}\n",
    "        dict_final[\"p1\"] = sorted_array[1]\n",
    "        dict_final[\"p2\"] = sorted_array[2]\n",
    "        dict_final[\"distance\"] = distance_cross\n",
    "    \n",
    "    return(dict_final)"
   ]
  },
  {
   "cell_type": "code",
   "execution_count": 13,
   "metadata": {
    "scrolled": true
   },
   "outputs": [
    {
     "data": {
      "text/plain": [
       "array([[0.61817787, 0.92940418],\n",
       "       [0.77680257, 0.51703796],\n",
       "       [0.49900534, 0.57295324],\n",
       "       [0.82995082, 0.50082536]])"
      ]
     },
     "execution_count": 13,
     "metadata": {},
     "output_type": "execute_result"
    }
   ],
   "source": [
    "X[:4]"
   ]
  },
  {
   "cell_type": "code",
   "execution_count": 14,
   "metadata": {},
   "outputs": [
    {
     "data": {
      "text/plain": [
       "{'p1': array([0.77680257, 0.51703796]),\n",
       " 'p2': array([0.82995082, 0.50082536]),\n",
       " 'distance': 0.05556603667338933}"
      ]
     },
     "execution_count": 14,
     "metadata": {},
     "output_type": "execute_result"
    }
   ],
   "source": [
    "find_closest_4(X[:4])"
   ]
  },
  {
   "cell_type": "code",
   "execution_count": 20,
   "metadata": {},
   "outputs": [],
   "source": [
    "def find_closest_nest(array):\n",
    "    X = sort_nest(array, 0)\n",
    "    length = len(X)\n",
    "    if length < 4:\n",
    "        return find_closest_brute_force(array)\n",
    "    \n",
    "    else:\n",
    "        array_l = X[:int(length/2)]\n",
    "        array_r = X[int(length/2):]\n",
    "\n",
    "        dict_l = find_closest_nest(array_l)\n",
    "        dict_r = find_closest_nest(array_r)\n",
    "                    \n",
    "        if dict_l[\"distance\"] > dict_r[\"distance\"]:\n",
    "            dict_both = dict_r\n",
    "        else:\n",
    "            dict_both = dict_l\n",
    "        \n",
    "        Y = sort_nest(array, 1)\n",
    "        \n",
    "        Y_list = []\n",
    "        for i in range(length):\n",
    "            if X[int(length/2-1)][0]-dict_both[\"distance\"] < Y[i][0] < X[int(length/2-1)][0]+dict_both[\"distance\"]:\n",
    "                Y_list.append(Y[i])\n",
    "\n",
    "        Y = np.array(Y_list)\n",
    "        if len(Y) == 1:\n",
    "            dict_final = dict_both\n",
    "        elif len(Y) < 8:\n",
    "            dict_y = find_closest_brute_force(Y)\n",
    "            if dict_both[\"distance\"] > dict_y[\"distance\"]:\n",
    "                dict_final = dict_y\n",
    "            else:\n",
    "                dict_final = dict_both            \n",
    "        else:\n",
    "            for i in range(len(Y)-7):\n",
    "                dict_y = find_closest_brute_force(Y[i:i+7])        \n",
    "                \n",
    "                if dict_both[\"distance\"] > dict_y[\"distance\"]:\n",
    "                    dict_final = dict_y\n",
    "                else:\n",
    "                    dict_final = dict_both\n",
    "    \n",
    "        return dict_final"
   ]
  },
  {
   "cell_type": "code",
   "execution_count": 21,
   "metadata": {},
   "outputs": [
    {
     "data": {
      "text/plain": [
       "{'p1': array([0.74768368, 0.56424011]),\n",
       " 'p2': array([0.73902457, 0.56494181]),\n",
       " 'distance': 0.00868749456610089}"
      ]
     },
     "execution_count": 21,
     "metadata": {},
     "output_type": "execute_result"
    }
   ],
   "source": [
    "find_closest_nest(X)"
   ]
  },
  {
   "cell_type": "markdown",
   "metadata": {},
   "source": [
    "### Brute Force Function"
   ]
  },
  {
   "cell_type": "code",
   "execution_count": 17,
   "metadata": {},
   "outputs": [],
   "source": [
    "def find_closest_brute_force(array):\n",
    "    \n",
    "    dict_final = {}\n",
    "    dict_final[\"p1\"] = array[0]\n",
    "    dict_final[\"p2\"] = array[1]\n",
    "    dict_final[\"distance\"] = np.sqrt((array[0][0]-array[1][0])**2+(array[0][1]-array[1][1])**2)\n",
    "    \n",
    "    for i in range(len(array)-1):\n",
    "        for j in range(i+1, len(array)):\n",
    "            distance = np.sqrt((array[i][0]-array[j][0])**2+(array[i][1]-array[j][1])**2)\n",
    "            if distance < dict_final[\"distance\"]:\n",
    "                dict_final[\"p1\"] = array[i]\n",
    "                dict_final[\"p2\"] = array[j]\n",
    "                dict_final[\"distance\"] = distance\n",
    "\n",
    "    return dict_final"
   ]
  },
  {
   "cell_type": "code",
   "execution_count": 18,
   "metadata": {},
   "outputs": [
    {
     "data": {
      "text/plain": [
       "{'p1': array([0.73902457, 0.56494181]),\n",
       " 'p2': array([0.74768368, 0.56424011]),\n",
       " 'distance': 0.00868749456610089}"
      ]
     },
     "execution_count": 18,
     "metadata": {},
     "output_type": "execute_result"
    }
   ],
   "source": [
    "find_closest_brute_force(X)"
   ]
  },
  {
   "cell_type": "markdown",
   "metadata": {},
   "source": [
    "### Performance Check"
   ]
  },
  {
   "cell_type": "code",
   "execution_count": 19,
   "metadata": {},
   "outputs": [
    {
     "data": {
      "text/plain": [
       "(1024, 2)"
      ]
     },
     "execution_count": 19,
     "metadata": {},
     "output_type": "execute_result"
    }
   ],
   "source": [
    "Z = np.random.rand(2**10,2)\n",
    "Z.shape"
   ]
  },
  {
   "cell_type": "code",
   "execution_count": 94,
   "metadata": {},
   "outputs": [
    {
     "name": "stdout",
     "output_type": "stream",
     "text": [
      "--- 3.3881092071533203 seconds ---\n"
     ]
    }
   ],
   "source": [
    "start_time = time.time()\n",
    "find_closest_brute_force(Z)\n",
    "print(\"--- %s seconds ---\" % (time.time() - start_time))"
   ]
  },
  {
   "cell_type": "code",
   "execution_count": 95,
   "metadata": {
    "scrolled": true
   },
   "outputs": [
    {
     "name": "stdout",
     "output_type": "stream",
     "text": [
      "--- 0.5066041946411133 seconds ---\n"
     ]
    }
   ],
   "source": [
    "start_time = time.time()\n",
    "find_closest_nest(Z)\n",
    "print(\"--- %s seconds ---\" % (time.time() - start_time))"
   ]
  },
  {
   "cell_type": "code",
   "execution_count": 96,
   "metadata": {},
   "outputs": [
    {
     "data": {
      "text/plain": [
       "(4096, 2)"
      ]
     },
     "execution_count": 96,
     "metadata": {},
     "output_type": "execute_result"
    }
   ],
   "source": [
    "Z = np.random.rand(2**12,2)\n",
    "Z.shape"
   ]
  },
  {
   "cell_type": "code",
   "execution_count": 97,
   "metadata": {},
   "outputs": [
    {
     "name": "stdout",
     "output_type": "stream",
     "text": [
      "--- 53.920708894729614 seconds ---\n"
     ]
    }
   ],
   "source": [
    "start_time = time.time()\n",
    "find_closest_brute_force(Z)\n",
    "print(\"--- %s seconds ---\" % (time.time() - start_time))"
   ]
  },
  {
   "cell_type": "code",
   "execution_count": 98,
   "metadata": {
    "scrolled": true
   },
   "outputs": [
    {
     "name": "stdout",
     "output_type": "stream",
     "text": [
      "--- 3.2317519187927246 seconds ---\n"
     ]
    }
   ],
   "source": [
    "start_time = time.time()\n",
    "find_closest_nest(Z)\n",
    "print(\"--- %s seconds ---\" % (time.time() - start_time))"
   ]
  },
  {
   "cell_type": "code",
   "execution_count": 22,
   "metadata": {},
   "outputs": [
    {
     "name": "stdout",
     "output_type": "stream",
     "text": [
      "i=2: completed\n",
      "i=3: completed\n",
      "i=4: completed\n",
      "i=5: completed\n",
      "i=6: completed\n",
      "i=7: completed\n",
      "i=8: completed\n",
      "i=9: completed\n",
      "i=10: completed\n",
      "i=11: completed\n",
      "i=12: completed\n",
      "i=13: completed\n",
      "i=14: completed\n"
     ]
    }
   ],
   "source": [
    "time_list = []\n",
    "for i in range(2, 15):\n",
    "    Z = np.random.rand(2**i, 2)\n",
    "    \n",
    "    start_time = time.time()\n",
    "    find_closest_brute_force(Z)\n",
    "    brute = time.time() - start_time\n",
    "\n",
    "    start_time = time.time()\n",
    "    find_closest_nest(Z)\n",
    "    nest = time.time() - start_time\n",
    "    \n",
    "    time_list.append([brute, nest])\n",
    "    print(\"i={}: completed\".format(i))"
   ]
  },
  {
   "cell_type": "code",
   "execution_count": 23,
   "metadata": {},
   "outputs": [
    {
     "data": {
      "image/png": "[encoded data removed]",
      "text/plain": [
       "<Figure size 864x432 with 1 Axes>"
      ]
     },
     "metadata": {
      "needs_background": "light"
     },
     "output_type": "display_data"
    }
   ],
   "source": [
    "time_df = pd.DataFrame(time_list, index=range(2, 15), columns=[\"brute_force\", \"split_conquer\"])\n",
    "time_df.plot(figsize=(12, 6))\n",
    "\n",
    "plt.title(\"Brute Force vs Split Conquer\", fontsize=36)\n",
    "plt.legend([\"Brute Force\", \"Split Conquer\"], fontsize=24)\n",
    "plt.xlabel(\"Sample Size\", fontsize = 24)\n",
    "plt.xticks(np.arange(2, 15, 2), labels = [\"2^{}\".format(i) for i in range(2, 15, 2)], fontsize=15)\n",
    "plt.yticks(fontsize=15)\n",
    "plt.yscale(\"log\", basey=2)\n",
    "plt.ylabel(\"Execution Time (Second)\", fontsize = 24)\n",
    "plt.savefig(\"image/find_closest.png\")\n",
    "plt.show()"
   ]
  },
  {
   "cell_type": "code",
   "execution_count": null,
   "metadata": {},
   "outputs": [],
   "source": []
  }
 ],
 "metadata": {
  "kernelspec": {
   "display_name": "Python 3",
   "language": "python",
   "name": "python3"
  },
  "language_info": {
   "codemirror_mode": {
    "name": "ipython",
    "version": 3
   },
   "file_extension": ".py",
   "mimetype": "text/x-python",
   "name": "python",
   "nbconvert_exporter": "python",
   "pygments_lexer": "ipython3",
   "version": "3.7.3"
  }
 },
 "nbformat": 4,
 "nbformat_minor": 2
}
