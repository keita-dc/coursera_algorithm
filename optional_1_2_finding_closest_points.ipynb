{
 "cells": [
  {
   "cell_type": "markdown",
   "metadata": {},
   "source": [
    "# Finding the closest pair of points"
   ]
  },
  {
   "cell_type": "code",
   "execution_count": 28,
   "metadata": {},
   "outputs": [],
   "source": [
    "import numpy as np\n",
    "import pandas as pd\n",
    "import matplotlib.pyplot as plt\n",
    "import time\n",
    "\n",
    "plt.style.use(\"ggplot\")\n",
    "\n",
    "%matplotlib inline"
   ]
  },
  {
   "cell_type": "markdown",
   "metadata": {},
   "source": [
    "## Merge Sort"
   ]
  },
  {
   "cell_type": "code",
   "execution_count": 2,
   "metadata": {},
   "outputs": [],
   "source": [
    "X = np.random.rand(64,2)"
   ]
  },
  {
   "cell_type": "code",
   "execution_count": 3,
   "metadata": {},
   "outputs": [],
   "source": [
    "def sort_2(array):\n",
    "    if array[0][0] > array[1][0]:\n",
    "        return np.array([array[1], array[0]])\n",
    "    else:\n",
    "        return array"
   ]
  },
  {
   "cell_type": "code",
   "execution_count": 4,
   "metadata": {
    "scrolled": true
   },
   "outputs": [
    {
     "data": {
      "text/plain": [
       "array([[0.81505639, 0.56039462],\n",
       "       [0.45916977, 0.08641075]])"
      ]
     },
     "execution_count": 4,
     "metadata": {},
     "output_type": "execute_result"
    }
   ],
   "source": [
    "X[:2]"
   ]
  },
  {
   "cell_type": "code",
   "execution_count": 5,
   "metadata": {},
   "outputs": [
    {
     "data": {
      "text/plain": [
       "array([[0.45916977, 0.08641075],\n",
       "       [0.81505639, 0.56039462]])"
      ]
     },
     "execution_count": 5,
     "metadata": {},
     "output_type": "execute_result"
    }
   ],
   "source": [
    "sort_2(X[:2])"
   ]
  },
  {
   "cell_type": "code",
   "execution_count": 48,
   "metadata": {},
   "outputs": [],
   "source": [
    "def sort_nest(array, coordinate=0):\n",
    "    \n",
    "    length = len(array)\n",
    "    \n",
    "    if length == 2:\n",
    "        if array[0][coordinate] > array[1][coordinate]:\n",
    "            return np.array([array[1], array[0]])\n",
    "        else:\n",
    "            return array\n",
    "    \n",
    "    elif length > 2:\n",
    "        array_l = array[:int(length/2)]\n",
    "        array_r = array[int(length/2):]\n",
    "        array_l_sorted = sort_nest(array_l, coordinate)\n",
    "        array_r_sorted = sort_nest(array_r, coordinate)\n",
    "\n",
    "        l = 0\n",
    "        r = 0\n",
    "        \n",
    "        sorted_list = []\n",
    "        \n",
    "        for i in range(length):\n",
    "            if r == int(length/2):\n",
    "                sorted_list.append(array_l_sorted[l])\n",
    "                l += 1\n",
    "\n",
    "            elif l == int(length/2):\n",
    "                sorted_list.append(array_r_sorted[r])\n",
    "                r += 1             \n",
    "                \n",
    "            elif array_l_sorted[l][coordinate] > array_r_sorted[r][coordinate]:\n",
    "                sorted_list.append(array_r_sorted[r])\n",
    "                r += 1\n",
    "                \n",
    "            elif array_l_sorted[l][coordinate] < array_r_sorted[r][coordinate]:\n",
    "                sorted_list.append(array_l_sorted[l])\n",
    "                l += 1\n",
    "        \n",
    "        return np.array(sorted_list)"
   ]
  },
  {
   "cell_type": "code",
   "execution_count": 49,
   "metadata": {},
   "outputs": [],
   "source": [
    "X = np.random.rand(64,2)"
   ]
  },
  {
   "cell_type": "code",
   "execution_count": 50,
   "metadata": {
    "scrolled": true
   },
   "outputs": [
    {
     "data": {
      "text/plain": [
       "array([[0.01259837, 0.37307678],\n",
       "       [0.03114066, 0.57741892],\n",
       "       [0.04211828, 0.83023237],\n",
       "       [0.04770493, 0.64528213],\n",
       "       [0.07090634, 0.9298389 ],\n",
       "       [0.08420732, 0.60842602],\n",
       "       [0.11048201, 0.54201127],\n",
       "       [0.16662539, 0.8884755 ],\n",
       "       [0.16794428, 0.81335895],\n",
       "       [0.1690136 , 0.88332097],\n",
       "       [0.18054723, 0.86539323],\n",
       "       [0.18572705, 0.51617648],\n",
       "       [0.18849591, 0.04437632],\n",
       "       [0.23243048, 0.71985853],\n",
       "       [0.24068014, 0.11212876],\n",
       "       [0.28005983, 0.89203056],\n",
       "       [0.28429535, 0.65684714],\n",
       "       [0.29405325, 0.56910223],\n",
       "       [0.32019116, 0.19690722],\n",
       "       [0.32925724, 0.35667555],\n",
       "       [0.33419656, 0.40936125],\n",
       "       [0.35033586, 0.16472161],\n",
       "       [0.38737837, 0.03804974],\n",
       "       [0.39426408, 0.49477581],\n",
       "       [0.39976423, 0.15110378],\n",
       "       [0.41052542, 0.47714343],\n",
       "       [0.46788641, 0.13268372],\n",
       "       [0.46795233, 0.60045746],\n",
       "       [0.47067047, 0.92093693],\n",
       "       [0.48598977, 0.23441625],\n",
       "       [0.48941352, 0.83031101],\n",
       "       [0.49380239, 0.59533282],\n",
       "       [0.4978691 , 0.0249602 ],\n",
       "       [0.5018843 , 0.68346238],\n",
       "       [0.54761919, 0.89852281],\n",
       "       [0.54959918, 0.21071295],\n",
       "       [0.57303679, 0.86777978],\n",
       "       [0.59308346, 0.9084974 ],\n",
       "       [0.62307023, 0.28807328],\n",
       "       [0.6292311 , 0.54506101],\n",
       "       [0.64177337, 0.997234  ],\n",
       "       [0.64372046, 0.18197792],\n",
       "       [0.65783051, 0.94605382],\n",
       "       [0.66090678, 0.60754282],\n",
       "       [0.66618448, 0.67340229],\n",
       "       [0.69329613, 0.67428979],\n",
       "       [0.71558146, 0.2922452 ],\n",
       "       [0.74661676, 0.13404118],\n",
       "       [0.74986322, 0.89046465],\n",
       "       [0.75205919, 0.83289312],\n",
       "       [0.79814698, 0.81130173],\n",
       "       [0.80730482, 0.02564738],\n",
       "       [0.82837101, 0.34317816],\n",
       "       [0.82985517, 0.0525047 ],\n",
       "       [0.83283202, 0.09745489],\n",
       "       [0.84043178, 0.18664162],\n",
       "       [0.84969182, 0.50713933],\n",
       "       [0.85806696, 0.89041951],\n",
       "       [0.86028554, 0.4497449 ],\n",
       "       [0.91736628, 0.38165279],\n",
       "       [0.93724119, 0.65906911],\n",
       "       [0.94029668, 0.82993257],\n",
       "       [0.95518052, 0.35110592],\n",
       "       [0.96858282, 0.68045828]])"
      ]
     },
     "execution_count": 50,
     "metadata": {},
     "output_type": "execute_result"
    }
   ],
   "source": [
    "sort_nest(X)"
   ]
  },
  {
   "cell_type": "code",
   "execution_count": 51,
   "metadata": {},
   "outputs": [
    {
     "data": {
      "text/plain": [
       "array([[0.4978691 , 0.0249602 ],\n",
       "       [0.80730482, 0.02564738],\n",
       "       [0.38737837, 0.03804974],\n",
       "       [0.18849591, 0.04437632],\n",
       "       [0.82985517, 0.0525047 ],\n",
       "       [0.83283202, 0.09745489],\n",
       "       [0.24068014, 0.11212876],\n",
       "       [0.46788641, 0.13268372],\n",
       "       [0.74661676, 0.13404118],\n",
       "       [0.39976423, 0.15110378],\n",
       "       [0.35033586, 0.16472161],\n",
       "       [0.64372046, 0.18197792],\n",
       "       [0.84043178, 0.18664162],\n",
       "       [0.32019116, 0.19690722],\n",
       "       [0.54959918, 0.21071295],\n",
       "       [0.48598977, 0.23441625],\n",
       "       [0.62307023, 0.28807328],\n",
       "       [0.71558146, 0.2922452 ],\n",
       "       [0.82837101, 0.34317816],\n",
       "       [0.95518052, 0.35110592],\n",
       "       [0.32925724, 0.35667555],\n",
       "       [0.01259837, 0.37307678],\n",
       "       [0.91736628, 0.38165279],\n",
       "       [0.33419656, 0.40936125],\n",
       "       [0.86028554, 0.4497449 ],\n",
       "       [0.41052542, 0.47714343],\n",
       "       [0.39426408, 0.49477581],\n",
       "       [0.84969182, 0.50713933],\n",
       "       [0.18572705, 0.51617648],\n",
       "       [0.11048201, 0.54201127],\n",
       "       [0.6292311 , 0.54506101],\n",
       "       [0.29405325, 0.56910223],\n",
       "       [0.03114066, 0.57741892],\n",
       "       [0.49380239, 0.59533282],\n",
       "       [0.46795233, 0.60045746],\n",
       "       [0.66090678, 0.60754282],\n",
       "       [0.08420732, 0.60842602],\n",
       "       [0.04770493, 0.64528213],\n",
       "       [0.28429535, 0.65684714],\n",
       "       [0.93724119, 0.65906911],\n",
       "       [0.66618448, 0.67340229],\n",
       "       [0.69329613, 0.67428979],\n",
       "       [0.96858282, 0.68045828],\n",
       "       [0.5018843 , 0.68346238],\n",
       "       [0.23243048, 0.71985853],\n",
       "       [0.79814698, 0.81130173],\n",
       "       [0.16794428, 0.81335895],\n",
       "       [0.94029668, 0.82993257],\n",
       "       [0.04211828, 0.83023237],\n",
       "       [0.48941352, 0.83031101],\n",
       "       [0.75205919, 0.83289312],\n",
       "       [0.18054723, 0.86539323],\n",
       "       [0.57303679, 0.86777978],\n",
       "       [0.1690136 , 0.88332097],\n",
       "       [0.16662539, 0.8884755 ],\n",
       "       [0.85806696, 0.89041951],\n",
       "       [0.74986322, 0.89046465],\n",
       "       [0.28005983, 0.89203056],\n",
       "       [0.54761919, 0.89852281],\n",
       "       [0.59308346, 0.9084974 ],\n",
       "       [0.47067047, 0.92093693],\n",
       "       [0.07090634, 0.9298389 ],\n",
       "       [0.65783051, 0.94605382],\n",
       "       [0.64177337, 0.997234  ]])"
      ]
     },
     "execution_count": 51,
     "metadata": {},
     "output_type": "execute_result"
    }
   ],
   "source": [
    "sort_nest(X, 1)"
   ]
  },
  {
   "cell_type": "markdown",
   "metadata": {},
   "source": [
    "## Finding the Closest Pair of Points"
   ]
  },
  {
   "cell_type": "code",
   "execution_count": 9,
   "metadata": {},
   "outputs": [],
   "source": [
    "X = np.random.rand(64,2)"
   ]
  },
  {
   "cell_type": "code",
   "execution_count": 10,
   "metadata": {},
   "outputs": [],
   "source": [
    "def find_closest_4(array):\n",
    "    sorted_array = sort_nest(array)\n",
    "    length = len(sorted_array)\n",
    "    array_l = sorted_array[:int(length/2)]\n",
    "    array_r = sorted_array[int(length/2):]\n",
    "    \n",
    "    dict_l = {}\n",
    "    dict_l[\"p1\"] = array_l[0]\n",
    "    dict_l[\"p2\"] = array_l[1]\n",
    "    dict_l[\"distance\"] = np.sqrt((array_l[0][0]-array_l[1][0])**2+(array_l[0][1]-array_l[1][1])**2)\n",
    "    dict_r = {}\n",
    "    dict_r[\"p1\"] = array_r[0]\n",
    "    dict_r[\"p2\"] = array_r[1]\n",
    "    dict_r[\"distance\"] = np.sqrt((array_r[0][0]-array_r[1][0])**2+(array_r[0][1]-array_r[1][1])**2)\n",
    "    \n",
    "    if dict_l[\"distance\"] > dict_r[\"distance\"]:\n",
    "        dict_both = dict_r\n",
    "    else:\n",
    "        dict_both = dict_l\n",
    "    \n",
    "    distance_cross = np.sqrt((sorted_array[1][0]-sorted_array[2][0])**2+(sorted_array[1][1]-sorted_array[2][1])**2)\n",
    "    if distance_cross > dict_both[\"distance\"]:\n",
    "        dict_final = dict_both\n",
    "    else:\n",
    "        dict_final = {}\n",
    "        dict_final[\"p1\"] = sorted_array[1]\n",
    "        dict_final[\"p2\"] = sorted_array[2]\n",
    "        dict_final[\"distance\"] = distance_cross\n",
    "    \n",
    "    return(dict_final)"
   ]
  },
  {
   "cell_type": "code",
   "execution_count": 58,
   "metadata": {
    "scrolled": true
   },
   "outputs": [
    {
     "data": {
      "text/plain": [
       "array([[0.94029668, 0.82993257],\n",
       "       [0.65783051, 0.94605382],\n",
       "       [0.23243048, 0.71985853],\n",
       "       [0.03114066, 0.57741892]])"
      ]
     },
     "execution_count": 58,
     "metadata": {},
     "output_type": "execute_result"
    }
   ],
   "source": [
    "X[:4]"
   ]
  },
  {
   "cell_type": "code",
   "execution_count": 59,
   "metadata": {},
   "outputs": [
    {
     "data": {
      "text/plain": [
       "{'p1': array([0.03114066, 0.57741892]),\n",
       " 'p2': array([0.23243048, 0.71985853]),\n",
       " 'distance': 0.24659000978659854}"
      ]
     },
     "execution_count": 59,
     "metadata": {},
     "output_type": "execute_result"
    }
   ],
   "source": [
    "find_closest_4(X[:4])"
   ]
  },
  {
   "cell_type": "code",
   "execution_count": 91,
   "metadata": {},
   "outputs": [],
   "source": [
    "def find_closest_nest(array):\n",
    "    X = sort_nest(array, 0)\n",
    "    length = len(X)\n",
    "    if length < 4:\n",
    "        return find_closest_brute_force(array)\n",
    "    \n",
    "    else:\n",
    "        array_l = X[:int(length/2)]\n",
    "        array_r = X[int(length/2):]\n",
    "\n",
    "        dict_l = find_closest_nest(array_l)\n",
    "        dict_r = find_closest_nest(array_r)\n",
    "                    \n",
    "        if dict_l[\"distance\"] > dict_r[\"distance\"]:\n",
    "            dict_both = dict_r\n",
    "        else:\n",
    "            dict_both = dict_l\n",
    "        \n",
    "        Y = sort_nest(array, 1)\n",
    "        \n",
    "        Y_list = []\n",
    "        for i in range(length):\n",
    "            if X[int(length/2-1)][0]-dict_both[\"distance\"] < Y[i][0] < X[int(length/2-1)][0]+dict_both[\"distance\"]:\n",
    "                Y_list.append(Y[i])\n",
    "\n",
    "        Y = np.array(Y_list)\n",
    "        if len(Y) == 1:\n",
    "            dict_final = dict_both\n",
    "        elif len(Y) < 8:\n",
    "            dict_y = find_closest_brute_force(Y)\n",
    "            if dict_both[\"distance\"] > dict_y[\"distance\"]:\n",
    "                dict_final = dict_y\n",
    "            else:\n",
    "                dict_final = dict_both            \n",
    "        else:\n",
    "            for i in range(len(Y)-7):\n",
    "                dict_y = find_closest_brute_force(Y[i:i+7])        \n",
    "                \n",
    "                if dict_both[\"distance\"] > dict_y[\"distance\"]:\n",
    "                    dict_final = dict_y\n",
    "                else:\n",
    "                    dict_final = dict_both\n",
    "    \n",
    "        return dict_final"
   ]
  },
  {
   "cell_type": "code",
   "execution_count": 92,
   "metadata": {},
   "outputs": [
    {
     "data": {
      "text/plain": [
       "{'p1': array([0.1690136 , 0.88332097]),\n",
       " 'p2': array([0.16662539, 0.8884755 ]),\n",
       " 'distance': 0.005680904480431322}"
      ]
     },
     "execution_count": 92,
     "metadata": {},
     "output_type": "execute_result"
    }
   ],
   "source": [
    "find_closest_nest(X)"
   ]
  },
  {
   "cell_type": "markdown",
   "metadata": {},
   "source": [
    "### Brute Force Function"
   ]
  },
  {
   "cell_type": "code",
   "execution_count": 15,
   "metadata": {},
   "outputs": [],
   "source": [
    "def find_closest_brute_force(array):\n",
    "    \n",
    "    dict_final = {}\n",
    "    dict_final[\"p1\"] = array[0]\n",
    "    dict_final[\"p2\"] = array[1]\n",
    "    dict_final[\"distance\"] = np.sqrt((array[0][0]-array[1][0])**2+(array[0][1]-array[1][1])**2)\n",
    "    \n",
    "    for i in range(len(array)-1):\n",
    "        for j in range(i+1, len(array)):\n",
    "            distance = np.sqrt((array[i][0]-array[j][0])**2+(array[i][1]-array[j][1])**2)\n",
    "            if distance < dict_final[\"distance\"]:\n",
    "                dict_final[\"p1\"] = array[i]\n",
    "                dict_final[\"p2\"] = array[j]\n",
    "                dict_final[\"distance\"] = distance\n",
    "\n",
    "    return dict_final"
   ]
  },
  {
   "cell_type": "code",
   "execution_count": 64,
   "metadata": {},
   "outputs": [
    {
     "data": {
      "text/plain": [
       "{'p1': array([0.1690136 , 0.88332097]),\n",
       " 'p2': array([0.16662539, 0.8884755 ]),\n",
       " 'distance': 0.005680904480431322}"
      ]
     },
     "execution_count": 64,
     "metadata": {},
     "output_type": "execute_result"
    }
   ],
   "source": [
    "find_closest_brute_force(X)"
   ]
  },
  {
   "cell_type": "markdown",
   "metadata": {},
   "source": [
    "### Performance Check"
   ]
  },
  {
   "cell_type": "code",
   "execution_count": 93,
   "metadata": {},
   "outputs": [
    {
     "data": {
      "text/plain": [
       "(1024, 2)"
      ]
     },
     "execution_count": 93,
     "metadata": {},
     "output_type": "execute_result"
    }
   ],
   "source": [
    "Z = np.random.rand(2**10,2)\n",
    "Z.shape"
   ]
  },
  {
   "cell_type": "code",
   "execution_count": 94,
   "metadata": {},
   "outputs": [
    {
     "name": "stdout",
     "output_type": "stream",
     "text": [
      "--- 3.3881092071533203 seconds ---\n"
     ]
    }
   ],
   "source": [
    "start_time = time.time()\n",
    "find_closest_brute_force(Z)\n",
    "print(\"--- %s seconds ---\" % (time.time() - start_time))"
   ]
  },
  {
   "cell_type": "code",
   "execution_count": 95,
   "metadata": {
    "scrolled": true
   },
   "outputs": [
    {
     "name": "stdout",
     "output_type": "stream",
     "text": [
      "--- 0.5066041946411133 seconds ---\n"
     ]
    }
   ],
   "source": [
    "start_time = time.time()\n",
    "find_closest_nest(Z)\n",
    "print(\"--- %s seconds ---\" % (time.time() - start_time))"
   ]
  },
  {
   "cell_type": "code",
   "execution_count": 96,
   "metadata": {},
   "outputs": [
    {
     "data": {
      "text/plain": [
       "(4096, 2)"
      ]
     },
     "execution_count": 96,
     "metadata": {},
     "output_type": "execute_result"
    }
   ],
   "source": [
    "Z = np.random.rand(2**12,2)\n",
    "Z.shape"
   ]
  },
  {
   "cell_type": "code",
   "execution_count": 97,
   "metadata": {},
   "outputs": [
    {
     "name": "stdout",
     "output_type": "stream",
     "text": [
      "--- 53.920708894729614 seconds ---\n"
     ]
    }
   ],
   "source": [
    "start_time = time.time()\n",
    "find_closest_brute_force(Z)\n",
    "print(\"--- %s seconds ---\" % (time.time() - start_time))"
   ]
  },
  {
   "cell_type": "code",
   "execution_count": 98,
   "metadata": {
    "scrolled": true
   },
   "outputs": [
    {
     "name": "stdout",
     "output_type": "stream",
     "text": [
      "--- 3.2317519187927246 seconds ---\n"
     ]
    }
   ],
   "source": [
    "start_time = time.time()\n",
    "find_closest_nest(Z)\n",
    "print(\"--- %s seconds ---\" % (time.time() - start_time))"
   ]
  },
  {
   "cell_type": "code",
   "execution_count": 99,
   "metadata": {},
   "outputs": [
    {
     "name": "stdout",
     "output_type": "stream",
     "text": [
      "i=2: completed\n",
      "i=3: completed\n",
      "i=4: completed\n",
      "i=5: completed\n",
      "i=6: completed\n",
      "i=7: completed\n",
      "i=8: completed\n",
      "i=9: completed\n",
      "i=10: completed\n",
      "i=11: completed\n",
      "i=12: completed\n",
      "i=13: completed\n",
      "i=14: completed\n"
     ]
    }
   ],
   "source": [
    "time_list = []\n",
    "for i in range(2, 15):\n",
    "    Z = np.random.rand(2**i, 2)\n",
    "    \n",
    "    start_time = time.time()\n",
    "    find_closest_brute_force(Z)\n",
    "    brute = time.time() - start_time\n",
    "\n",
    "    start_time = time.time()\n",
    "    find_closest_nest(Z)\n",
    "    nest = time.time() - start_time\n",
    "    \n",
    "    time_list.append([brute, nest])\n",
    "    print(\"i={}: completed\".format(i))"
   ]
  },
  {
   "cell_type": "code",
   "execution_count": 100,
   "metadata": {},
   "outputs": [
    {
     "data": {
      "image/png": "[encoded data removed]",
      "text/plain": [
       "<Figure size 432x288 with 1 Axes>"
      ]
     },
     "metadata": {
      "needs_background": "light"
     },
     "output_type": "display_data"
    }
   ],
   "source": [
    "time_df = pd.DataFrame(time_list, index=range(2, 15), columns=[\"brute_force\", \"split_conquer\"])\n",
    "time_df.plot()\n",
    "plt.title(\"Brute Force vs Split Conquer\", fontsize=18)\n",
    "plt.legend([\"Brute Force\", \"Split Conquer\"], fontsize=15)\n",
    "plt.xlabel(\"Sample Size\", fontsize = 15)\n",
    "plt.xticks(np.arange(2, 15, 2), labels = [\"2^{}\".format(i) for i in range(2, 15, 2)])\n",
    "plt.yscale(\"log\")\n",
    "plt.ylabel(\"Execution Time (Second)\", fontsize = 15)\n",
    "plt.savefig(\"image/find_closest.png\")\n",
    "plt.show()"
   ]
  },
  {
   "cell_type": "code",
   "execution_count": null,
   "metadata": {},
   "outputs": [],
   "source": []
  }
 ],
 "metadata": {
  "kernelspec": {
   "display_name": "Python 3",
   "language": "python",
   "name": "python3"
  },
  "language_info": {
   "codemirror_mode": {
    "name": "ipython",
    "version": 3
   },
   "file_extension": ".py",
   "mimetype": "text/x-python",
   "name": "python",
   "nbconvert_exporter": "python",
   "pygments_lexer": "ipython3",
   "version": "3.7.3"
  }
 },
 "nbformat": 4,
 "nbformat_minor": 2
}
