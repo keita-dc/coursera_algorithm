{
 "cells": [
  {
   "cell_type": "markdown",
   "metadata": {},
   "source": [
    "# Finding the closest pair of points"
   ]
  },
  {
   "cell_type": "code",
   "execution_count": 1,
   "metadata": {},
   "outputs": [],
   "source": [
    "import numpy as np"
   ]
  },
  {
   "cell_type": "markdown",
   "metadata": {},
   "source": [
    "## Merge Sort"
   ]
  },
  {
   "cell_type": "code",
   "execution_count": 2,
   "metadata": {},
   "outputs": [],
   "source": [
    "X = np.random.rand(64,2)"
   ]
  },
  {
   "cell_type": "code",
   "execution_count": 3,
   "metadata": {},
   "outputs": [],
   "source": [
    "def sort_2(array):\n",
    "    if array[0][0] > array[1][0]:\n",
    "        return np.array([array[1], array[0]])\n",
    "    else:\n",
    "        return array"
   ]
  },
  {
   "cell_type": "code",
   "execution_count": 4,
   "metadata": {
    "scrolled": true
   },
   "outputs": [
    {
     "data": {
      "text/plain": [
       "array([[0.47746063, 0.36134067],\n",
       "       [0.20941055, 0.7648149 ]])"
      ]
     },
     "execution_count": 4,
     "metadata": {},
     "output_type": "execute_result"
    }
   ],
   "source": [
    "X[:2]"
   ]
  },
  {
   "cell_type": "code",
   "execution_count": 5,
   "metadata": {},
   "outputs": [
    {
     "data": {
      "text/plain": [
       "array([[0.20941055, 0.7648149 ],\n",
       "       [0.47746063, 0.36134067]])"
      ]
     },
     "execution_count": 5,
     "metadata": {},
     "output_type": "execute_result"
    }
   ],
   "source": [
    "sort_2(X[:2])"
   ]
  },
  {
   "cell_type": "code",
   "execution_count": 6,
   "metadata": {},
   "outputs": [],
   "source": [
    "def sort_nest(array):\n",
    "    \n",
    "    length = len(array)\n",
    "    \n",
    "    if length == 2:\n",
    "        if array[0][0] > array[1][0]:\n",
    "            return np.array([array[1], array[0]])\n",
    "        else:\n",
    "            return array\n",
    "    \n",
    "    elif length > 2:\n",
    "        array_l = array[:int(length/2)]\n",
    "        array_r = array[int(length/2):]\n",
    "        array_l_sorted = sort_nest(array_l)\n",
    "        array_r_sorted = sort_nest(array_r)\n",
    "\n",
    "        l = 0\n",
    "        r = 0\n",
    "        \n",
    "        sorted_list = []\n",
    "        \n",
    "        for i in range(length):\n",
    "            if r == int(length/2):\n",
    "                sorted_list.append(array_l_sorted[l])\n",
    "                l += 1\n",
    "\n",
    "            elif l == int(length/2):\n",
    "                sorted_list.append(array_r_sorted[r])\n",
    "                r += 1             \n",
    "                \n",
    "            elif array_l_sorted[l][0] > array_r_sorted[r][0]:\n",
    "                sorted_list.append(array_r_sorted[r])\n",
    "                r += 1\n",
    "                \n",
    "            elif array_l_sorted[l][0] < array_r_sorted[r][0]:\n",
    "                sorted_list.append(array_l_sorted[l])\n",
    "                l += 1\n",
    "        \n",
    "        return np.array(sorted_list)"
   ]
  },
  {
   "cell_type": "code",
   "execution_count": 7,
   "metadata": {},
   "outputs": [],
   "source": [
    "X = np.random.rand(64,2)"
   ]
  },
  {
   "cell_type": "code",
   "execution_count": 8,
   "metadata": {
    "scrolled": true
   },
   "outputs": [
    {
     "data": {
      "text/plain": [
       "array([[0.0130574 , 0.03665803],\n",
       "       [0.01997055, 0.70011217],\n",
       "       [0.02066626, 0.3636053 ],\n",
       "       [0.02629135, 0.78973392],\n",
       "       [0.0414221 , 0.40903357],\n",
       "       [0.07707376, 0.05323022],\n",
       "       [0.07964768, 0.43133409],\n",
       "       [0.089893  , 0.13828495],\n",
       "       [0.10878216, 0.09561594],\n",
       "       [0.11582258, 0.84293846],\n",
       "       [0.11788335, 0.95460321],\n",
       "       [0.12226523, 0.39327267],\n",
       "       [0.13604653, 0.0695275 ],\n",
       "       [0.13852335, 0.36695333],\n",
       "       [0.1575754 , 0.70374758],\n",
       "       [0.1651143 , 0.86670683],\n",
       "       [0.16552158, 0.85449602],\n",
       "       [0.18665306, 0.27274231],\n",
       "       [0.23556476, 0.57575359],\n",
       "       [0.25913771, 0.42731041],\n",
       "       [0.26726678, 0.82833979],\n",
       "       [0.27031105, 0.88394696],\n",
       "       [0.27357871, 0.54391595],\n",
       "       [0.30399503, 0.45102697],\n",
       "       [0.30443505, 0.23366516],\n",
       "       [0.31695708, 0.36322743],\n",
       "       [0.3196624 , 0.50497545],\n",
       "       [0.32534263, 0.76615929],\n",
       "       [0.32627247, 0.95765242],\n",
       "       [0.33760698, 0.90662034],\n",
       "       [0.37621298, 0.06048545],\n",
       "       [0.38474754, 0.62694219],\n",
       "       [0.38533321, 0.46329356],\n",
       "       [0.39357104, 0.39604119],\n",
       "       [0.41461384, 0.62418025],\n",
       "       [0.42454915, 0.17546535],\n",
       "       [0.45387964, 0.35286365],\n",
       "       [0.47790956, 0.15326519],\n",
       "       [0.49772899, 0.18006463],\n",
       "       [0.49818593, 0.56580592],\n",
       "       [0.51416087, 0.79259747],\n",
       "       [0.52753142, 0.12992269],\n",
       "       [0.54942906, 0.55885498],\n",
       "       [0.55021041, 0.96595042],\n",
       "       [0.58665684, 0.93469858],\n",
       "       [0.64707711, 0.77478204],\n",
       "       [0.68736362, 0.83570589],\n",
       "       [0.72075719, 0.94221485],\n",
       "       [0.72581433, 0.99577853],\n",
       "       [0.72610547, 0.11100563],\n",
       "       [0.72888949, 0.27793519],\n",
       "       [0.75207903, 0.08490002],\n",
       "       [0.77309758, 0.04778047],\n",
       "       [0.79636406, 0.1623021 ],\n",
       "       [0.81379589, 0.72359271],\n",
       "       [0.84111787, 0.22213917],\n",
       "       [0.84491627, 0.53368174],\n",
       "       [0.85076567, 0.72828621],\n",
       "       [0.90764404, 0.18190637],\n",
       "       [0.91160179, 0.96993451],\n",
       "       [0.91885815, 0.9710731 ],\n",
       "       [0.92411819, 0.66541283],\n",
       "       [0.95596975, 0.30516887],\n",
       "       [0.98537234, 0.10406302]])"
      ]
     },
     "execution_count": 8,
     "metadata": {},
     "output_type": "execute_result"
    }
   ],
   "source": [
    "sort_nest(X)"
   ]
  },
  {
   "cell_type": "markdown",
   "metadata": {},
   "source": [
    "## Finding the Closest Pair of Points"
   ]
  },
  {
   "cell_type": "code",
   "execution_count": 9,
   "metadata": {},
   "outputs": [],
   "source": [
    "X = np.random.rand(64,2)"
   ]
  },
  {
   "cell_type": "code",
   "execution_count": 10,
   "metadata": {},
   "outputs": [],
   "source": [
    "def find_closest_4(array):\n",
    "    sorted_array = sort_nest(array)\n",
    "    length = len(sorted_array)\n",
    "    array_l = sorted_array[:int(length/2)]\n",
    "    array_r = sorted_array[int(length/2):]\n",
    "    \n",
    "    dict_l = {}\n",
    "    dict_l[\"p1\"] = array_l[0]\n",
    "    dict_l[\"p2\"] = array_l[1]\n",
    "    dict_l[\"distance\"] = np.sqrt((array_l[0][0]-array_l[1][0])**2+(array_l[0][1]-array_l[1][1])**2)\n",
    "    dict_r = {}\n",
    "    dict_r[\"p1\"] = array_r[0]\n",
    "    dict_r[\"p2\"] = array_r[1]\n",
    "    dict_r[\"distance\"] = np.sqrt((array_r[0][0]-array_r[1][0])**2+(array_r[0][1]-array_r[1][1])**2)\n",
    "    \n",
    "    if dict_l[\"distance\"] > dict_r[\"distance\"]:\n",
    "        dict_both = dict_r\n",
    "    else:\n",
    "        dict_both = dict_l\n",
    "    \n",
    "    distance_cross = np.sqrt((sorted_array[1][0]-sorted_array[2][0])**2+(sorted_array[1][1]-sorted_array[2][1])**2)\n",
    "    if distance_cross > dict_both[\"distance\"]:\n",
    "        dict_final = dict_both\n",
    "    else:\n",
    "        dict_final = {}\n",
    "        dict_final[\"p1\"] = sorted_array[1]\n",
    "        dict_final[\"p2\"] = sorted_array[2]\n",
    "        dict_final[\"distance\"] = distance_cross\n",
    "    \n",
    "    return(dict_final)"
   ]
  },
  {
   "cell_type": "code",
   "execution_count": 11,
   "metadata": {
    "scrolled": true
   },
   "outputs": [
    {
     "data": {
      "text/plain": [
       "array([[0.00099747, 0.08005792],\n",
       "       [0.78283321, 0.41788175],\n",
       "       [0.03978494, 0.07868402],\n",
       "       [0.16484025, 0.10879064]])"
      ]
     },
     "execution_count": 11,
     "metadata": {},
     "output_type": "execute_result"
    }
   ],
   "source": [
    "X[:4]"
   ]
  },
  {
   "cell_type": "code",
   "execution_count": 12,
   "metadata": {},
   "outputs": [
    {
     "data": {
      "text/plain": [
       "{'p1': array([0.00099747, 0.08005792]),\n",
       " 'p2': array([0.03978494, 0.07868402]),\n",
       " 'distance': 0.038811788809251214}"
      ]
     },
     "execution_count": 12,
     "metadata": {},
     "output_type": "execute_result"
    }
   ],
   "source": [
    "find_closest_4(X[:4])"
   ]
  },
  {
   "cell_type": "code",
   "execution_count": 13,
   "metadata": {},
   "outputs": [],
   "source": [
    "def find_closest_nest(array):\n",
    "    sorted_array = sort_nest(array)\n",
    "    length = len(sorted_array)\n",
    "    if length == 4:\n",
    "        return find_closest_4(array)\n",
    "    \n",
    "    else:\n",
    "        array_l = sorted_array[:int(length/2)]\n",
    "        array_r = sorted_array[int(length/2):]\n",
    "\n",
    "        dict_l = find_closest_nest(array_l)\n",
    "        dict_r = find_closest_nest(array_r)\n",
    "                    \n",
    "        if dict_l[\"distance\"] > dict_r[\"distance\"]:\n",
    "            dict_both = dict_r\n",
    "        else:\n",
    "            dict_both = dict_l\n",
    "\n",
    "        Y = sorted_array[int(length/2-3):int(length/2+4)]\n",
    "        y_length = len(Y)\n",
    "        dict_y = {}\n",
    "        dict_y[\"p1\"] = Y[0]\n",
    "        dict_y[\"p2\"] = Y[1]\n",
    "        dict_y[\"distance\"] = np.sqrt((Y[0][0]-Y[1][0])**2+(Y[0][1]-Y[1][1])**2)\n",
    "        for i in range(y_length-1):\n",
    "            for j in range(i+1, y_length):\n",
    "                y_p1 = Y[i]\n",
    "                y_p2 = Y[j]\n",
    "                y_distance = np.sqrt((y_p1[0]-y_p2[0])**2+(y_p1[1]-y_p2[1])**2)\n",
    "                if dict_y[\"distance\"] > y_distance:\n",
    "                    dict_y[\"p1\"] = y_p1\n",
    "                    dict_y[\"p2\"] = y_p2\n",
    "                    dict_y[\"distance\"] = y_distance\n",
    "                        \n",
    "        if dict_both[\"distance\"] > dict_y[\"distance\"]:\n",
    "            dict_final = dict_y\n",
    "        else:\n",
    "            dict_final = dict_both\n",
    "    \n",
    "    return dict_final"
   ]
  },
  {
   "cell_type": "code",
   "execution_count": 14,
   "metadata": {},
   "outputs": [
    {
     "data": {
      "text/plain": [
       "{'p1': array([0.44793963, 0.12552146]),\n",
       " 'p2': array([0.4533498 , 0.13304224]),\n",
       " 'distance': 0.009264557883946365}"
      ]
     },
     "execution_count": 14,
     "metadata": {},
     "output_type": "execute_result"
    }
   ],
   "source": [
    "find_closest_nest(X)"
   ]
  },
  {
   "cell_type": "markdown",
   "metadata": {},
   "source": [
    "### Brute Force Function"
   ]
  },
  {
   "cell_type": "code",
   "execution_count": 15,
   "metadata": {},
   "outputs": [],
   "source": [
    "def find_closest_brute_force(array):\n",
    "    \n",
    "    dict_final = {}\n",
    "    dict_final[\"p1\"] = array[0]\n",
    "    dict_final[\"p2\"] = array[1]\n",
    "    dict_final[\"distance\"] = np.sqrt((array[0][0]-array[1][0])**2+(array[0][1]-array[1][1])**2)\n",
    "    \n",
    "    for i in range(len(array)-1):\n",
    "        for j in range(i+1, len(array)):\n",
    "            distance = np.sqrt((array[i][0]-array[j][0])**2+(array[i][1]-array[j][1])**2)\n",
    "            if distance < dict_final[\"distance\"]:\n",
    "                dict_final[\"p1\"] = array[i]\n",
    "                dict_final[\"p2\"] = array[j]\n",
    "                dict_final[\"distance\"] = distance\n",
    "\n",
    "    return dict_final"
   ]
  },
  {
   "cell_type": "code",
   "execution_count": 16,
   "metadata": {},
   "outputs": [
    {
     "data": {
      "text/plain": [
       "{'p1': array([0.44793963, 0.12552146]),\n",
       " 'p2': array([0.4533498 , 0.13304224]),\n",
       " 'distance': 0.009264557883946365}"
      ]
     },
     "execution_count": 16,
     "metadata": {},
     "output_type": "execute_result"
    }
   ],
   "source": [
    "find_closest_brute_force(X)"
   ]
  },
  {
   "cell_type": "markdown",
   "metadata": {},
   "source": [
    "### Performance Check"
   ]
  },
  {
   "cell_type": "code",
   "execution_count": 17,
   "metadata": {},
   "outputs": [
    {
     "data": {
      "text/plain": [
       "(1024, 2)"
      ]
     },
     "execution_count": 17,
     "metadata": {},
     "output_type": "execute_result"
    }
   ],
   "source": [
    "Z = np.random.rand(2**10,2)\n",
    "Z.shape"
   ]
  },
  {
   "cell_type": "code",
   "execution_count": 19,
   "metadata": {},
   "outputs": [
    {
     "name": "stdout",
     "output_type": "stream",
     "text": [
      "CPU times: user 4 µs, sys: 1 µs, total: 5 µs\n",
      "Wall time: 6.91 µs\n"
     ]
    },
    {
     "data": {
      "text/plain": [
       "{'p1': array([0.29391558, 0.31109653]),\n",
       " 'p2': array([0.29410208, 0.31086143]),\n",
       " 'distance': 0.0003000879643913339}"
      ]
     },
     "execution_count": 19,
     "metadata": {},
     "output_type": "execute_result"
    }
   ],
   "source": [
    "%time\n",
    "find_closest_brute_force(Z)"
   ]
  },
  {
   "cell_type": "code",
   "execution_count": 20,
   "metadata": {},
   "outputs": [
    {
     "name": "stdout",
     "output_type": "stream",
     "text": [
      "CPU times: user 4 µs, sys: 0 ns, total: 4 µs\n",
      "Wall time: 7.87 µs\n"
     ]
    },
    {
     "data": {
      "text/plain": [
       "{'p1': array([0.29391558, 0.31109653]),\n",
       " 'p2': array([0.29410208, 0.31086143]),\n",
       " 'distance': 0.0003000879643913339}"
      ]
     },
     "execution_count": 20,
     "metadata": {},
     "output_type": "execute_result"
    }
   ],
   "source": [
    "%time\n",
    "find_closest_nest(Z)"
   ]
  },
  {
   "cell_type": "code",
   "execution_count": null,
   "metadata": {},
   "outputs": [],
   "source": []
  }
 ],
 "metadata": {
  "kernelspec": {
   "display_name": "Python 3",
   "language": "python",
   "name": "python3"
  },
  "language_info": {
   "codemirror_mode": {
    "name": "ipython",
    "version": 3
   },
   "file_extension": ".py",
   "mimetype": "text/x-python",
   "name": "python",
   "nbconvert_exporter": "python",
   "pygments_lexer": "ipython3",
   "version": "3.7.3"
  }
 },
 "nbformat": 4,
 "nbformat_minor": 2
}
