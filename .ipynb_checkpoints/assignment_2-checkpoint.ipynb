{
 "cells": [
  {
   "cell_type": "markdown",
   "metadata": {},
   "source": [
    "# Programming Assignment #1"
   ]
  },
  {
   "cell_type": "markdown",
   "metadata": {},
   "source": [
    "Download the following text file:\n",
    "\n",
    "IntegerArray.txt\n",
    "\n",
    "This file contains all of the 100,000 integers between 1 and 100,000 (inclusive) in some order, with no integer repeated.\n",
    "\n",
    "Your task is to compute the number of inversions in the file given, where the i^{th}i \n",
    "th\n",
    "  row of the file indicates the i^{th}i \n",
    "th\n",
    "  entry of an array.\n",
    "\n",
    "Because of the large size of this array, you should implement the fast divide-and-conquer algorithm covered in the video lectures.\n",
    "\n",
    "The numeric answer for the given input file should be typed in the space below.\n",
    "\n",
    "So if your answer is 1198233847, then just type 1198233847 in the space provided without any space / commas / any other punctuation marks. You can make up to 5 attempts, and we'll use the best one for grading.\n",
    "\n",
    "(We do not require you to submit your code, so feel free to use any programming language you want --- just type the final numeric answer in the following space.)\n",
    "\n",
    "[TIP: before submitting, first test the correctness of your program on some small test files or your own devising. Then post your best test cases to the discussion forums to help your fellow students!]"
   ]
  },
  {
   "cell_type": "code",
   "execution_count": 4,
   "metadata": {},
   "outputs": [],
   "source": [
    "import numpy as np\n",
    "import pandas as pd\n",
    "import matplotlib.pyplot as plt\n",
    "import time\n",
    "\n",
    "plt.style.use(\"ggplot\")\n",
    "\n",
    "%matplotlib inline"
   ]
  },
  {
   "cell_type": "code",
   "execution_count": 82,
   "metadata": {},
   "outputs": [],
   "source": [
    "X = np.random.rand(1000000)"
   ]
  },
  {
   "cell_type": "markdown",
   "metadata": {},
   "source": [
    "## Brute Force Function"
   ]
  },
  {
   "cell_type": "code",
   "execution_count": 75,
   "metadata": {},
   "outputs": [],
   "source": [
    "def bf_inversion_count(array):\n",
    "    count = 0\n",
    "    for i in range(len(array)):\n",
    "        j = i + 1\n",
    "        while j < len(array):\n",
    "            if array[i] > array[j]:\n",
    "                count +=1\n",
    "            j += 1\n",
    "    return count           "
   ]
  },
  {
   "cell_type": "code",
   "execution_count": 83,
   "metadata": {},
   "outputs": [
    {
     "ename": "KeyboardInterrupt",
     "evalue": "",
     "output_type": "error",
     "traceback": [
      "\u001b[0;31m---------------------------------------------------------------------------\u001b[0m",
      "\u001b[0;31mKeyboardInterrupt\u001b[0m                         Traceback (most recent call last)",
      "\u001b[0;32m<ipython-input-83-46fd2a9965ac>\u001b[0m in \u001b[0;36m<module>\u001b[0;34m\u001b[0m\n\u001b[0;32m----> 1\u001b[0;31m \u001b[0mbf_inversion_count\u001b[0m\u001b[0;34m(\u001b[0m\u001b[0mX\u001b[0m\u001b[0;34m)\u001b[0m\u001b[0;34m\u001b[0m\u001b[0;34m\u001b[0m\u001b[0m\n\u001b[0m",
      "\u001b[0;32m<ipython-input-75-5948cb18f1c0>\u001b[0m in \u001b[0;36mbf_inversion_count\u001b[0;34m(array)\u001b[0m\n\u001b[1;32m      4\u001b[0m         \u001b[0mj\u001b[0m \u001b[0;34m=\u001b[0m \u001b[0mi\u001b[0m \u001b[0;34m+\u001b[0m \u001b[0;36m1\u001b[0m\u001b[0;34m\u001b[0m\u001b[0;34m\u001b[0m\u001b[0m\n\u001b[1;32m      5\u001b[0m         \u001b[0;32mwhile\u001b[0m \u001b[0mj\u001b[0m \u001b[0;34m<\u001b[0m \u001b[0mlen\u001b[0m\u001b[0;34m(\u001b[0m\u001b[0marray\u001b[0m\u001b[0;34m)\u001b[0m\u001b[0;34m:\u001b[0m\u001b[0;34m\u001b[0m\u001b[0;34m\u001b[0m\u001b[0m\n\u001b[0;32m----> 6\u001b[0;31m             \u001b[0;32mif\u001b[0m \u001b[0marray\u001b[0m\u001b[0;34m[\u001b[0m\u001b[0mi\u001b[0m\u001b[0;34m]\u001b[0m \u001b[0;34m>\u001b[0m \u001b[0marray\u001b[0m\u001b[0;34m[\u001b[0m\u001b[0mj\u001b[0m\u001b[0;34m]\u001b[0m\u001b[0;34m:\u001b[0m\u001b[0;34m\u001b[0m\u001b[0;34m\u001b[0m\u001b[0m\n\u001b[0m\u001b[1;32m      7\u001b[0m                 \u001b[0mcount\u001b[0m \u001b[0;34m+=\u001b[0m\u001b[0;36m1\u001b[0m\u001b[0;34m\u001b[0m\u001b[0;34m\u001b[0m\u001b[0m\n\u001b[1;32m      8\u001b[0m             \u001b[0mj\u001b[0m \u001b[0;34m+=\u001b[0m \u001b[0;36m1\u001b[0m\u001b[0;34m\u001b[0m\u001b[0;34m\u001b[0m\u001b[0m\n",
      "\u001b[0;31mKeyboardInterrupt\u001b[0m: "
     ]
    }
   ],
   "source": [
    "bf_inversion_count(X)"
   ]
  },
  {
   "cell_type": "markdown",
   "metadata": {},
   "source": [
    "## Divide Conquer Function"
   ]
  },
  {
   "cell_type": "code",
   "execution_count": 84,
   "metadata": {},
   "outputs": [],
   "source": [
    "def dc_inversion_count(array):\n",
    "    \n",
    "    length = len(array)\n",
    "    \n",
    "    if length == 2:\n",
    "        if array[0] > array[1]:\n",
    "            return np.array([array[1], array[0]]), 1\n",
    "        else:\n",
    "            return array, 0\n",
    "    \n",
    "    elif length > 2:\n",
    "        array_l = array[:int(length/2)]\n",
    "        array_r = array[int(length/2):]\n",
    "        array_l_sorted = df_inversion_count(array_l)[0]\n",
    "        array_r_sorted = df_inversion_count(array_r)[0]\n",
    "        count = df_inversion_count(array_l)[1] + df_inversion_count(array_r)[1]\n",
    "\n",
    "        l = 0\n",
    "        r = 0\n",
    "        \n",
    "        sorted_list = []\n",
    "        \n",
    "        for i in range(length):\n",
    "            if r == int(length/2):\n",
    "                sorted_list.append(array_l_sorted[l])\n",
    "                l += 1\n",
    "\n",
    "            elif l == int(length/2):\n",
    "                sorted_list.append(array_r_sorted[r])\n",
    "                r += 1             \n",
    "                \n",
    "            elif array_l_sorted[l] > array_r_sorted[r]:\n",
    "                sorted_list.append(array_r_sorted[r])\n",
    "                r += 1\n",
    "                count += len(array_l_sorted) - l\n",
    "                \n",
    "            elif array_l_sorted[l] < array_r_sorted[r]:\n",
    "                sorted_list.append(array_l_sorted[l])\n",
    "                l += 1\n",
    "        \n",
    "        return np.array(sorted_list), count"
   ]
  },
  {
   "cell_type": "code",
   "execution_count": null,
   "metadata": {},
   "outputs": [],
   "source": [
    "dc_inversion_count(X)[1]"
   ]
  },
  {
   "cell_type": "markdown",
   "metadata": {},
   "source": [
    "## Performance Check"
   ]
  },
  {
   "cell_type": "code",
   "execution_count": 86,
   "metadata": {},
   "outputs": [
    {
     "name": "stdout",
     "output_type": "stream",
     "text": [
      "i=2: completed\n",
      "i=3: completed\n",
      "i=4: completed\n",
      "i=5: completed\n",
      "i=6: completed\n",
      "i=7: completed\n",
      "i=8: completed\n",
      "i=9: completed\n",
      "i=10: completed\n",
      "i=11: completed\n",
      "i=12: completed\n",
      "i=13: completed\n",
      "i=14: completed\n"
     ]
    }
   ],
   "source": [
    "time_list = []\n",
    "for i in range(2, 15):\n",
    "    Z = np.random.rand(2**i)\n",
    "    \n",
    "    start_time = time.time()\n",
    "    bf_inversion_count(Z)\n",
    "    brute = time.time() - start_time\n",
    "\n",
    "    start_time = time.time()\n",
    "    dc_inversion_count(Z)\n",
    "    divide_conquer = time.time() - start_time\n",
    "    \n",
    "    time_list.append([brute, divide_conquer])\n",
    "    print(\"i={}: completed\".format(i))"
   ]
  },
  {
   "cell_type": "code",
   "execution_count": 90,
   "metadata": {},
   "outputs": [
    {
     "data": {
      "text/plain": [
       "[[1.52587890625e-05, 4.100799560546875e-05],\n",
       " [2.288818359375e-05, 7.82012939453125e-05],\n",
       " [6.031990051269531e-05, 0.0003147125244140625],\n",
       " [0.0002009868621826172, 0.001870870590209961],\n",
       " [0.0015289783477783203, 0.011603832244873047],\n",
       " [0.0059392452239990234, 0.03575706481933594],\n",
       " [0.012430906295776367, 0.09256887435913086],\n",
       " [0.05219101905822754, 0.3581228256225586],\n",
       " [0.22924304008483887, 1.4566700458526611],\n",
       " [0.9323022365570068, 5.822298049926758],\n",
       " [3.702396869659424, 23.00729990005493],\n",
       " [14.710254192352295, 92.4479308128357],\n",
       " [59.68598222732544, 385.2537431716919]]"
      ]
     },
     "execution_count": 90,
     "metadata": {},
     "output_type": "execute_result"
    }
   ],
   "source": [
    "time_list"
   ]
  },
  {
   "cell_type": "code",
   "execution_count": 87,
   "metadata": {},
   "outputs": [
    {
     "data": {
      "image/png": "[encoded data removed]",
      "text/plain": [
       "<Figure size 432x288 with 1 Axes>"
      ]
     },
     "metadata": {
      "needs_background": "light"
     },
     "output_type": "display_data"
    }
   ],
   "source": [
    "time_df = pd.DataFrame(time_list, index=range(2, 15), columns=[\"brute_force\", \"split_conquer\"])\n",
    "time_df.plot()\n",
    "plt.title(\"Brute Force vs Split Conquer\", fontsize=18)\n",
    "plt.legend([\"Brute Force\", \"Split Conquer\"], fontsize=15)\n",
    "plt.xlabel(\"Sample Size\", fontsize = 15)\n",
    "plt.xticks(np.arange(2, 15, 2), labels = [\"2^{}\".format(i) for i in range(2, 15, 2)])\n",
    "plt.yscale(\"log\")\n",
    "plt.ylabel(\"Execution Time (Second)\", fontsize = 15)\n",
    "plt.savefig(\"image/inversion_count.png\")\n",
    "plt.show()"
   ]
  },
  {
   "cell_type": "code",
   "execution_count": null,
   "metadata": {},
   "outputs": [],
   "source": []
  }
 ],
 "metadata": {
  "kernelspec": {
   "display_name": "Python 3",
   "language": "python",
   "name": "python3"
  },
  "language_info": {
   "codemirror_mode": {
    "name": "ipython",
    "version": 3
   },
   "file_extension": ".py",
   "mimetype": "text/x-python",
   "name": "python",
   "nbconvert_exporter": "python",
   "pygments_lexer": "ipython3",
   "version": "3.7.3"
  }
 },
 "nbformat": 4,
 "nbformat_minor": 2
}
