{
 "cells": [
  {
   "cell_type": "markdown",
   "metadata": {},
   "source": [
    "# Finding the closest pair of points"
   ]
  },
  {
   "cell_type": "code",
   "execution_count": 1,
   "metadata": {},
   "outputs": [],
   "source": [
    "import numpy as np"
   ]
  },
  {
   "cell_type": "markdown",
   "metadata": {},
   "source": [
    "## Merge Sort"
   ]
  },
  {
   "cell_type": "code",
   "execution_count": 225,
   "metadata": {},
   "outputs": [],
   "source": [
    "X = np.random.rand(64,2)"
   ]
  },
  {
   "cell_type": "code",
   "execution_count": 229,
   "metadata": {},
   "outputs": [],
   "source": [
    "def sort_2(array):\n",
    "    if array[0][0] > array[1][0]:\n",
    "        return np.array([array[1], array[0]])\n",
    "    else:\n",
    "        return array"
   ]
  },
  {
   "cell_type": "code",
   "execution_count": 227,
   "metadata": {
    "scrolled": true
   },
   "outputs": [
    {
     "data": {
      "text/plain": [
       "array([[0.08744127, 0.93810805],\n",
       "       [0.06217424, 0.20944339]])"
      ]
     },
     "execution_count": 227,
     "metadata": {},
     "output_type": "execute_result"
    }
   ],
   "source": [
    "X[:2]"
   ]
  },
  {
   "cell_type": "code",
   "execution_count": 228,
   "metadata": {},
   "outputs": [
    {
     "name": "stdout",
     "output_type": "stream",
     "text": [
      "[0.06217424 0.20944339]\n",
      "<class 'numpy.ndarray'>\n"
     ]
    },
    {
     "data": {
      "text/plain": [
       "array([[0.06217424, 0.20944339],\n",
       "       [0.08744127, 0.93810805]])"
      ]
     },
     "execution_count": 228,
     "metadata": {},
     "output_type": "execute_result"
    }
   ],
   "source": [
    "sort_2(X[:2])"
   ]
  },
  {
   "cell_type": "code",
   "execution_count": 315,
   "metadata": {},
   "outputs": [],
   "source": [
    "def sort_nest(array):\n",
    "    \n",
    "    length = len(array)\n",
    "    \n",
    "    if length == 2:\n",
    "        if array[0][0] > array[1][0]:\n",
    "            return np.array([array[1], array[0]])\n",
    "        else:\n",
    "            return array\n",
    "    \n",
    "    elif length > 2:\n",
    "        array_l = array[:int(length/2)]\n",
    "        array_r = array[int(length/2):]\n",
    "        array_l_sorted = sort_nest(array_l)\n",
    "        array_r_sorted = sort_nest(array_r)\n",
    "\n",
    "        l = 0\n",
    "        r = 0\n",
    "        \n",
    "        sorted_list = []\n",
    "        \n",
    "        for i in range(length):\n",
    "            if r == int(length/2):\n",
    "                sorted_list.append(array_l_sorted[l])\n",
    "                l += 1\n",
    "\n",
    "            elif l == int(length/2):\n",
    "                sorted_list.append(array_r_sorted[r])\n",
    "                r += 1             \n",
    "                \n",
    "            elif array_l_sorted[l][0] > array_r_sorted[r][0]:\n",
    "                sorted_list.append(array_r_sorted[r])\n",
    "                r += 1\n",
    "                \n",
    "            elif array_l_sorted[l][0] < array_r_sorted[r][0]:\n",
    "                sorted_list.append(array_l_sorted[l])\n",
    "                l += 1\n",
    "        \n",
    "        return np.array(sorted_list)"
   ]
  },
  {
   "cell_type": "code",
   "execution_count": 316,
   "metadata": {},
   "outputs": [],
   "source": [
    "X = np.random.rand(64,2)"
   ]
  },
  {
   "cell_type": "code",
   "execution_count": 317,
   "metadata": {
    "scrolled": true
   },
   "outputs": [
    {
     "data": {
      "text/plain": [
       "array([[9.73321488e-04, 6.97422438e-02],\n",
       "       [5.08735933e-03, 6.72939519e-01],\n",
       "       [6.12907425e-03, 1.20175688e-01],\n",
       "       [1.00879075e-02, 8.61235567e-01],\n",
       "       [3.96344705e-02, 9.77594847e-03],\n",
       "       [9.53001485e-02, 6.20508168e-01],\n",
       "       [1.09777671e-01, 2.18689233e-01],\n",
       "       [1.10248652e-01, 2.73417892e-01],\n",
       "       [1.18893321e-01, 6.03165414e-01],\n",
       "       [1.50303735e-01, 6.49919359e-01],\n",
       "       [1.69950407e-01, 3.55541044e-02],\n",
       "       [1.81519699e-01, 4.36286222e-01],\n",
       "       [1.87160652e-01, 1.25236414e-01],\n",
       "       [1.88402596e-01, 5.13827276e-01],\n",
       "       [1.94947207e-01, 4.54964861e-01],\n",
       "       [2.38413711e-01, 1.37414806e-01],\n",
       "       [2.56350301e-01, 4.54730083e-01],\n",
       "       [3.40608445e-01, 9.63513112e-02],\n",
       "       [3.41266743e-01, 2.95481713e-01],\n",
       "       [3.42491334e-01, 2.05732051e-01],\n",
       "       [3.43048672e-01, 1.41941384e-01],\n",
       "       [3.44723799e-01, 2.95388675e-01],\n",
       "       [3.46899733e-01, 9.69932842e-01],\n",
       "       [3.64187345e-01, 1.49832156e-01],\n",
       "       [3.79562266e-01, 8.54352483e-02],\n",
       "       [3.87271279e-01, 1.99740154e-01],\n",
       "       [3.93382109e-01, 5.36518412e-02],\n",
       "       [3.95838036e-01, 2.74008839e-01],\n",
       "       [4.33266125e-01, 8.96456213e-01],\n",
       "       [4.61270418e-01, 6.00683966e-01],\n",
       "       [5.26213146e-01, 9.72992706e-01],\n",
       "       [5.32914949e-01, 2.89815095e-01],\n",
       "       [5.48415716e-01, 2.19906531e-01],\n",
       "       [5.58138154e-01, 2.99017423e-01],\n",
       "       [5.65552858e-01, 2.54241890e-01],\n",
       "       [5.85604577e-01, 3.98339166e-01],\n",
       "       [6.11109801e-01, 9.98189320e-01],\n",
       "       [6.67990350e-01, 3.59677163e-01],\n",
       "       [6.69373875e-01, 1.87168092e-01],\n",
       "       [6.73735976e-01, 5.06034259e-01],\n",
       "       [6.92174562e-01, 2.49595696e-01],\n",
       "       [6.99563748e-01, 9.64588538e-01],\n",
       "       [7.16223486e-01, 9.98809568e-02],\n",
       "       [7.36261458e-01, 4.96231941e-01],\n",
       "       [7.36595282e-01, 1.71028925e-01],\n",
       "       [7.41640882e-01, 7.95509705e-01],\n",
       "       [7.53069998e-01, 2.02237855e-01],\n",
       "       [7.63025073e-01, 2.73595809e-01],\n",
       "       [7.95070477e-01, 4.71453282e-01],\n",
       "       [7.97377350e-01, 5.57601544e-01],\n",
       "       [8.05716141e-01, 4.68691550e-01],\n",
       "       [8.20313782e-01, 1.81126001e-01],\n",
       "       [8.21808478e-01, 2.27389978e-01],\n",
       "       [8.35441228e-01, 3.73215888e-01],\n",
       "       [8.67679933e-01, 9.76812963e-01],\n",
       "       [8.76100223e-01, 3.39510440e-01],\n",
       "       [8.98335808e-01, 2.95956001e-01],\n",
       "       [9.18606636e-01, 7.91182908e-01],\n",
       "       [9.35917717e-01, 9.19857826e-01],\n",
       "       [9.39297021e-01, 4.91606165e-01],\n",
       "       [9.63838873e-01, 5.14350793e-01],\n",
       "       [9.77453899e-01, 3.35610465e-01],\n",
       "       [9.78656868e-01, 6.26932598e-01],\n",
       "       [9.79911985e-01, 5.99397225e-01]])"
      ]
     },
     "execution_count": 317,
     "metadata": {},
     "output_type": "execute_result"
    }
   ],
   "source": [
    "sort_nest(X)"
   ]
  },
  {
   "cell_type": "code",
   "execution_count": null,
   "metadata": {},
   "outputs": [],
   "source": []
  },
  {
   "cell_type": "code",
   "execution_count": null,
   "metadata": {},
   "outputs": [],
   "source": []
  },
  {
   "cell_type": "code",
   "execution_count": 282,
   "metadata": {},
   "outputs": [],
   "source": []
  },
  {
   "cell_type": "code",
   "execution_count": null,
   "metadata": {},
   "outputs": [],
   "source": []
  }
 ],
 "metadata": {
  "kernelspec": {
   "display_name": "Python 3",
   "language": "python",
   "name": "python3"
  },
  "language_info": {
   "codemirror_mode": {
    "name": "ipython",
    "version": 3
   },
   "file_extension": ".py",
   "mimetype": "text/x-python",
   "name": "python",
   "nbconvert_exporter": "python",
   "pygments_lexer": "ipython3",
   "version": "3.7.3"
  }
 },
 "nbformat": 4,
 "nbformat_minor": 2
}
