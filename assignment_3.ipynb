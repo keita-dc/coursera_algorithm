{
 "cells": [
  {
   "cell_type": "markdown",
   "metadata": {},
   "source": [
    "# Programming Assignment #3"
   ]
  },
  {
   "cell_type": "markdown",
   "metadata": {},
   "source": [
    "The file contains all of the integers between 1 and 10,000 (inclusive, with no repeats) in unsorted order. The integer in the ith row of the file gives you the ith entry of an input array.\n",
    "\n",
    "Your task is to compute the total number of comparisons used to sort the given input file by QuickSort. As you know, the number of comparisons depends on which elements are chosen as pivots, so we'll ask you to explore three different pivoting rules.\n",
    "\n",
    "You should not count comparisons one-by-one. Rather, when there is a recursive call on a subarray of length mm, you should simply add m-1m−1 to your running total of comparisons. (This is because the pivot element is compared to each of the other m-1m−1 elements in the subarray in this recursive call.)\n",
    "\n",
    "WARNING: The Partition subroutine can be implemented in several different ways, and different implementations can give you differing numbers of comparisons. For this problem, you should implement the Partition subroutine exactly as it is described in the video lectures (otherwise you might get the wrong answer).\n",
    "\n",
    "DIRECTIONS FOR THIS PROBLEM:\n",
    "\n",
    "For the first part of the programming assignment, you should always use the first element of the array as the pivot element."
   ]
  },
  {
   "cell_type": "code",
   "execution_count": 1,
   "metadata": {},
   "outputs": [],
   "source": [
    "import numpy as np\n",
    "import pandas as pd\n",
    "import matplotlib.pyplot as plt\n",
    "import time\n",
    "\n",
    "plt.style.use(\"ggplot\")\n",
    "\n",
    "%matplotlib inline"
   ]
  },
  {
   "cell_type": "markdown",
   "metadata": {},
   "source": [
    "## Quick Sort"
   ]
  },
  {
   "cell_type": "code",
   "execution_count": 2,
   "metadata": {},
   "outputs": [],
   "source": [
    "def quick_sort(array):\n",
    "    length = len(array)\n",
    "    \n",
    "    if length <= 1:\n",
    "        return array\n",
    "    \n",
    "    if length == 2:\n",
    "        if array[0] > array[1]:\n",
    "            return [array[1], array[0]]\n",
    "        else:\n",
    "            return array\n",
    "        \n",
    "    else:\n",
    "        pivot = np.random.randint(0, length)\n",
    "        small = []\n",
    "        large = []\n",
    "        \n",
    "        for element in array[:pivot]:\n",
    "            if element < array[pivot]:\n",
    "                small.append(element)\n",
    "            else:\n",
    "                large.append(element)\n",
    "                \n",
    "        for element in array[pivot+1:]:\n",
    "            if element < array[pivot]:\n",
    "                small.append(element)\n",
    "            else:\n",
    "                large.append(element)\n",
    "                \n",
    "        if not small:\n",
    "            return [array[pivot]] + quick_sort(large)\n",
    "        elif not large:\n",
    "            return quick_sort(small) + [array[pivot]]\n",
    "        else:\n",
    "            return quick_sort(small) + [array[pivot]] + quick_sort(large)"
   ]
  },
  {
   "cell_type": "code",
   "execution_count": 7,
   "metadata": {},
   "outputs": [
    {
     "data": {
      "text/plain": [
       "[0.02083686659716344,\n",
       " 0.08998535704919874,\n",
       " 0.2707203255612789,\n",
       " 0.28337751444325465,\n",
       " 0.2986864672960414,\n",
       " 0.30827146443141995,\n",
       " 0.3844506673584601,\n",
       " 0.47561036360036824,\n",
       " 0.5736539367788924,\n",
       " 0.5790357351376303,\n",
       " 0.7031200555702143,\n",
       " 0.7331668356615652,\n",
       " 0.7423342793967275,\n",
       " 0.8157472822485925,\n",
       " 0.952662534712597]"
      ]
     },
     "execution_count": 7,
     "metadata": {},
     "output_type": "execute_result"
    }
   ],
   "source": [
    "quick_sort(np.random.rand(15))"
   ]
  },
  {
   "cell_type": "markdown",
   "metadata": {},
   "source": [
    "## Merge Sort"
   ]
  },
  {
   "cell_type": "code",
   "execution_count": 3,
   "metadata": {},
   "outputs": [],
   "source": [
    "def merge_sort(array):\n",
    "    \n",
    "    length = len(array)\n",
    "    \n",
    "    if length == 2:\n",
    "        if array[0] > array[1]:\n",
    "            return np.array([array[1], array[0]])\n",
    "        else:\n",
    "            return array\n",
    "    \n",
    "    elif length > 2:\n",
    "        array_l = array[:int(length/2)]\n",
    "        array_r = array[int(length/2):]\n",
    "        array_l_sorted = merge_sort(array_l)\n",
    "        array_r_sorted = merge_sort(array_r)\n",
    "\n",
    "        l = 0\n",
    "        r = 0\n",
    "        \n",
    "        sorted_list = []\n",
    "        \n",
    "        for i in range(length):\n",
    "            if r == int(length/2):\n",
    "                sorted_list.append(array_l_sorted[l])\n",
    "                l += 1\n",
    "\n",
    "            elif l == int(length/2):\n",
    "                sorted_list.append(array_r_sorted[r])\n",
    "                r += 1               \n",
    "                \n",
    "            elif array_l_sorted[l] > array_r_sorted[r]:\n",
    "                sorted_list.append(array_r_sorted[r])\n",
    "                r += 1\n",
    "                \n",
    "            elif array_l_sorted[l] < array_r_sorted[r]:\n",
    "                sorted_list.append(array_l_sorted[l])\n",
    "                l += 1\n",
    "        \n",
    "        return np.array(sorted_list)"
   ]
  },
  {
   "cell_type": "code",
   "execution_count": 4,
   "metadata": {},
   "outputs": [
    {
     "data": {
      "text/plain": [
       "array([0.11774634, 0.12273697, 0.14445593, 0.14618098, 0.20653615,\n",
       "       0.22275104, 0.35376752, 0.36895826, 0.39726814, 0.53451733,\n",
       "       0.55214424, 0.59787498, 0.78687792, 0.79177065, 0.95692372,\n",
       "       0.98121603])"
      ]
     },
     "execution_count": 4,
     "metadata": {},
     "output_type": "execute_result"
    }
   ],
   "source": [
    "merge_sort(np.random.rand(16))"
   ]
  },
  {
   "cell_type": "markdown",
   "metadata": {},
   "source": [
    "## Insertion Sort"
   ]
  },
  {
   "cell_type": "code",
   "execution_count": 11,
   "metadata": {},
   "outputs": [],
   "source": [
    "def insertion_sort(array):\n",
    "    for j in range(1, len(array)):\n",
    "        key = array[j]\n",
    "        i = j - 1\n",
    "        while i >= 0 and array[i] > key:\n",
    "            array[i+1] = array[i]\n",
    "            i -= 1\n",
    "        array[i+1] = key\n",
    "    return array"
   ]
  },
  {
   "cell_type": "markdown",
   "metadata": {},
   "source": [
    "## Performance Check"
   ]
  },
  {
   "cell_type": "code",
   "execution_count": 50,
   "metadata": {
    "scrolled": true
   },
   "outputs": [
    {
     "name": "stdout",
     "output_type": "stream",
     "text": [
      "i=2: completed\n",
      "i=3: completed\n",
      "i=4: completed\n",
      "i=5: completed\n",
      "i=6: completed\n",
      "i=7: completed\n",
      "i=8: completed\n",
      "i=9: completed\n",
      "i=10: completed\n",
      "i=11: completed\n",
      "i=12: completed\n",
      "i=13: completed\n",
      "i=14: completed\n"
     ]
    }
   ],
   "source": [
    "time_list = []\n",
    "for i in range(2, 15):\n",
    "    Z = np.random.rand(2**i)\n",
    "    \n",
    "    start_time = time.time()\n",
    "    insertion_sort(Z)\n",
    "    insertion = time.time() - start_time\n",
    "    \n",
    "    start_time = time.time()\n",
    "    merge_sort(Z)\n",
    "    merge = time.time() - start_time\n",
    "    \n",
    "    start_time = time.time()\n",
    "    quick_sort(Z)\n",
    "    quick = time.time() - start_time    \n",
    "    \n",
    "    time_list.append([insertion, merge, quick])\n",
    "    print(\"i={}: completed\".format(i))"
   ]
  },
  {
   "cell_type": "code",
   "execution_count": 53,
   "metadata": {},
   "outputs": [
    {
     "data": {
      "image/png": "[encoded data removed]",
      "text/plain": [
       "<Figure size 864x432 with 1 Axes>"
      ]
     },
     "metadata": {
      "needs_background": "light"
     },
     "output_type": "display_data"
    }
   ],
   "source": [
    "time_df = pd.DataFrame(time_list, index=range(2, 15), columns=[\"insertion\", \"merge\", \"quick\"])\n",
    "time_df.plot(figsize=(12, 6))\n",
    "\n",
    "plt.title(\"Sorting Algorithms\", fontsize=36)\n",
    "plt.legend([\"Insertion Sort\", \"Merge Sort\", \"Quick Sort\"], fontsize=24)\n",
    "plt.xlabel(\"Sample Size\", fontsize = 24)\n",
    "plt.xticks(np.arange(2, 15, 2), labels = [\"2^{}\".format(i) for i in range(2, 15, 2)], fontsize=15)\n",
    "plt.yticks(fontsize=15)\n",
    "plt.yscale(\"log\", basey=2)\n",
    "plt.ylabel(\"Execution Time (Second)\", fontsize = 24)\n",
    "plt.savefig(\"image/insertion_quick_merge_sort.png\")\n",
    "plt.show()"
   ]
  },
  {
   "cell_type": "code",
   "execution_count": 55,
   "metadata": {},
   "outputs": [
    {
     "data": {
      "text/html": [
       "<div>\n",
       "<style scoped>\n",
       "    .dataframe tbody tr th:only-of-type {\n",
       "        vertical-align: middle;\n",
       "    }\n",
       "\n",
       "    .dataframe tbody tr th {\n",
       "        vertical-align: top;\n",
       "    }\n",
       "\n",
       "    .dataframe thead th {\n",
       "        text-align: right;\n",
       "    }\n",
       "</style>\n",
       "<table border=\"1\" class=\"dataframe\">\n",
       "  <thead>\n",
       "    <tr style=\"text-align: right;\">\n",
       "      <th></th>\n",
       "      <th>insertion</th>\n",
       "      <th>merge</th>\n",
       "      <th>quick</th>\n",
       "    </tr>\n",
       "  </thead>\n",
       "  <tbody>\n",
       "    <tr>\n",
       "      <th>2</th>\n",
       "      <td>0.000015</td>\n",
       "      <td>0.000036</td>\n",
       "      <td>0.000035</td>\n",
       "    </tr>\n",
       "    <tr>\n",
       "      <th>3</th>\n",
       "      <td>0.000035</td>\n",
       "      <td>0.000085</td>\n",
       "      <td>0.000048</td>\n",
       "    </tr>\n",
       "    <tr>\n",
       "      <th>4</th>\n",
       "      <td>0.000085</td>\n",
       "      <td>0.000219</td>\n",
       "      <td>0.000103</td>\n",
       "    </tr>\n",
       "    <tr>\n",
       "      <th>5</th>\n",
       "      <td>0.000308</td>\n",
       "      <td>0.000480</td>\n",
       "      <td>0.000196</td>\n",
       "    </tr>\n",
       "    <tr>\n",
       "      <th>6</th>\n",
       "      <td>0.000994</td>\n",
       "      <td>0.001064</td>\n",
       "      <td>0.000224</td>\n",
       "    </tr>\n",
       "    <tr>\n",
       "      <th>7</th>\n",
       "      <td>0.003546</td>\n",
       "      <td>0.003052</td>\n",
       "      <td>0.000824</td>\n",
       "    </tr>\n",
       "    <tr>\n",
       "      <th>8</th>\n",
       "      <td>0.018417</td>\n",
       "      <td>0.004998</td>\n",
       "      <td>0.001175</td>\n",
       "    </tr>\n",
       "    <tr>\n",
       "      <th>9</th>\n",
       "      <td>0.052387</td>\n",
       "      <td>0.006877</td>\n",
       "      <td>0.002362</td>\n",
       "    </tr>\n",
       "    <tr>\n",
       "      <th>10</th>\n",
       "      <td>0.202811</td>\n",
       "      <td>0.014743</td>\n",
       "      <td>0.003884</td>\n",
       "    </tr>\n",
       "    <tr>\n",
       "      <th>11</th>\n",
       "      <td>0.690099</td>\n",
       "      <td>0.045721</td>\n",
       "      <td>0.013326</td>\n",
       "    </tr>\n",
       "    <tr>\n",
       "      <th>12</th>\n",
       "      <td>2.598812</td>\n",
       "      <td>0.072023</td>\n",
       "      <td>0.018144</td>\n",
       "    </tr>\n",
       "    <tr>\n",
       "      <th>13</th>\n",
       "      <td>10.237359</td>\n",
       "      <td>0.148215</td>\n",
       "      <td>0.037799</td>\n",
       "    </tr>\n",
       "    <tr>\n",
       "      <th>14</th>\n",
       "      <td>41.495710</td>\n",
       "      <td>0.454645</td>\n",
       "      <td>0.079310</td>\n",
       "    </tr>\n",
       "  </tbody>\n",
       "</table>\n",
       "</div>"
      ],
      "text/plain": [
       "    insertion     merge     quick\n",
       "2    0.000015  0.000036  0.000035\n",
       "3    0.000035  0.000085  0.000048\n",
       "4    0.000085  0.000219  0.000103\n",
       "5    0.000308  0.000480  0.000196\n",
       "6    0.000994  0.001064  0.000224\n",
       "7    0.003546  0.003052  0.000824\n",
       "8    0.018417  0.004998  0.001175\n",
       "9    0.052387  0.006877  0.002362\n",
       "10   0.202811  0.014743  0.003884\n",
       "11   0.690099  0.045721  0.013326\n",
       "12   2.598812  0.072023  0.018144\n",
       "13  10.237359  0.148215  0.037799\n",
       "14  41.495710  0.454645  0.079310"
      ]
     },
     "execution_count": 55,
     "metadata": {},
     "output_type": "execute_result"
    }
   ],
   "source": [
    "time_df"
   ]
  },
  {
   "cell_type": "code",
   "execution_count": 72,
   "metadata": {},
   "outputs": [
    {
     "name": "stdout",
     "output_type": "stream",
     "text": [
      "10.0% completed\n",
      "20.0% completed\n",
      "30.0% completed\n",
      "40.0% completed\n",
      "50.0% completed\n",
      "60.0% completed\n",
      "70.0% completed\n",
      "80.0% completed\n",
      "90.0% completed\n",
      "100.0% completed\n"
     ]
    }
   ],
   "source": [
    "time_list = []\n",
    "for i in range(1000):\n",
    "    Z = np.random.rand(2**10)\n",
    "    \n",
    "    start_time = time.time()\n",
    "    merge_sort(Z)\n",
    "    merge = time.time() - start_time\n",
    "    \n",
    "    start_time = time.time()\n",
    "    quick_sort(Z)\n",
    "    quick = time.time() - start_time  \n",
    "    \n",
    "    time_list.append([merge, quick])\n",
    "    \n",
    "    if (i+1) % 100 == 0:\n",
    "        print(\"{}% completed\".format((i+1)/10))"
   ]
  },
  {
   "cell_type": "code",
   "execution_count": 74,
   "metadata": {},
   "outputs": [
    {
     "data": {
      "image/png": "[encoded data removed]",
      "text/plain": [
       "<Figure size 864x432 with 1 Axes>"
      ]
     },
     "metadata": {
      "needs_background": "light"
     },
     "output_type": "display_data"
    }
   ],
   "source": [
    "trial_df = pd.DataFrame(time_list, columns=[\"merge\", \"quick\"])\n",
    "plt.figure(figsize=(12, 6))\n",
    "plt.hist(trial_df[\"merge\"], bins=20, density=True)\n",
    "plt.hist(trial_df[\"quick\"], bins=20, density=True)\n",
    "plt.legend([\"Merge Sort\", \"Quick Sort\"], fontsize=24)\n",
    "\n",
    "plt.title(\"Sorting Algorithms\", fontsize=36)\n",
    "plt.xlabel(\"Execution Time (Second)\", fontsize = 24)\n",
    "plt.xticks(fontsize=15)\n",
    "plt.yticks(fontsize=15)\n",
    "plt.ylabel(\"Density\", fontsize = 24)\n",
    "\n",
    "plt.show()"
   ]
  },
  {
   "cell_type": "code",
   "execution_count": 76,
   "metadata": {},
   "outputs": [
    {
     "data": {
      "text/html": [
       "<div>\n",
       "<style scoped>\n",
       "    .dataframe tbody tr th:only-of-type {\n",
       "        vertical-align: middle;\n",
       "    }\n",
       "\n",
       "    .dataframe tbody tr th {\n",
       "        vertical-align: top;\n",
       "    }\n",
       "\n",
       "    .dataframe thead th {\n",
       "        text-align: right;\n",
       "    }\n",
       "</style>\n",
       "<table border=\"1\" class=\"dataframe\">\n",
       "  <thead>\n",
       "    <tr style=\"text-align: right;\">\n",
       "      <th></th>\n",
       "      <th>merge</th>\n",
       "      <th>quick</th>\n",
       "    </tr>\n",
       "  </thead>\n",
       "  <tbody>\n",
       "    <tr>\n",
       "      <th>count</th>\n",
       "      <td>1000.000000</td>\n",
       "      <td>1000.000000</td>\n",
       "    </tr>\n",
       "    <tr>\n",
       "      <th>mean</th>\n",
       "      <td>0.019646</td>\n",
       "      <td>0.004610</td>\n",
       "    </tr>\n",
       "    <tr>\n",
       "      <th>std</th>\n",
       "      <td>0.004028</td>\n",
       "      <td>0.001143</td>\n",
       "    </tr>\n",
       "    <tr>\n",
       "      <th>min</th>\n",
       "      <td>0.016365</td>\n",
       "      <td>0.003724</td>\n",
       "    </tr>\n",
       "    <tr>\n",
       "      <th>25%</th>\n",
       "      <td>0.017315</td>\n",
       "      <td>0.003959</td>\n",
       "    </tr>\n",
       "    <tr>\n",
       "      <th>50%</th>\n",
       "      <td>0.018123</td>\n",
       "      <td>0.004157</td>\n",
       "    </tr>\n",
       "    <tr>\n",
       "      <th>75%</th>\n",
       "      <td>0.020002</td>\n",
       "      <td>0.004827</td>\n",
       "    </tr>\n",
       "    <tr>\n",
       "      <th>max</th>\n",
       "      <td>0.047073</td>\n",
       "      <td>0.017625</td>\n",
       "    </tr>\n",
       "  </tbody>\n",
       "</table>\n",
       "</div>"
      ],
      "text/plain": [
       "             merge        quick\n",
       "count  1000.000000  1000.000000\n",
       "mean      0.019646     0.004610\n",
       "std       0.004028     0.001143\n",
       "min       0.016365     0.003724\n",
       "25%       0.017315     0.003959\n",
       "50%       0.018123     0.004157\n",
       "75%       0.020002     0.004827\n",
       "max       0.047073     0.017625"
      ]
     },
     "execution_count": 76,
     "metadata": {},
     "output_type": "execute_result"
    }
   ],
   "source": [
    "trial_df.describe()"
   ]
  },
  {
   "cell_type": "code",
   "execution_count": null,
   "metadata": {},
   "outputs": [],
   "source": []
  }
 ],
 "metadata": {
  "kernelspec": {
   "display_name": "Python 3",
   "language": "python",
   "name": "python3"
  },
  "language_info": {
   "codemirror_mode": {
    "name": "ipython",
    "version": 3
   },
   "file_extension": ".py",
   "mimetype": "text/x-python",
   "name": "python",
   "nbconvert_exporter": "python",
   "pygments_lexer": "ipython3",
   "version": "3.7.3"
  }
 },
 "nbformat": 4,
 "nbformat_minor": 2
}
