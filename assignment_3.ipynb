{
 "cells": [
  {
   "cell_type": "markdown",
   "metadata": {},
   "source": [
    "# Programming Assignment #3"
   ]
  },
  {
   "cell_type": "markdown",
   "metadata": {},
   "source": [
    "The file contains all of the integers between 1 and 10,000 (inclusive, with no repeats) in unsorted order. The integer in the ith row of the file gives you the ith entry of an input array.\n",
    "\n",
    "Your task is to compute the total number of comparisons used to sort the given input file by QuickSort. As you know, the number of comparisons depends on which elements are chosen as pivots, so we'll ask you to explore three different pivoting rules.\n",
    "\n",
    "You should not count comparisons one-by-one. Rather, when there is a recursive call on a subarray of length mm, you should simply add m-1m−1 to your running total of comparisons. (This is because the pivot element is compared to each of the other m-1m−1 elements in the subarray in this recursive call.)\n",
    "\n",
    "WARNING: The Partition subroutine can be implemented in several different ways, and different implementations can give you differing numbers of comparisons. For this problem, you should implement the Partition subroutine exactly as it is described in the video lectures (otherwise you might get the wrong answer).\n",
    "\n",
    "DIRECTIONS FOR THIS PROBLEM:\n",
    "\n",
    "For the first part of the programming assignment, you should always use the first element of the array as the pivot element."
   ]
  },
  {
   "cell_type": "code",
   "execution_count": 1,
   "metadata": {},
   "outputs": [],
   "source": [
    "import numpy as np\n",
    "import pandas as pd\n",
    "import matplotlib.pyplot as plt\n",
    "import time\n",
    "\n",
    "plt.style.use(\"ggplot\")\n",
    "\n",
    "%matplotlib inline"
   ]
  },
  {
   "cell_type": "markdown",
   "metadata": {},
   "source": [
    "## Quick Sort"
   ]
  },
  {
   "cell_type": "code",
   "execution_count": 2,
   "metadata": {},
   "outputs": [],
   "source": [
    "def quick_sort(array):\n",
    "    length = len(array)\n",
    "    \n",
    "    if length <= 1:\n",
    "        return array\n",
    "    \n",
    "    if length == 2:\n",
    "        if array[0] > array[1]:\n",
    "            return [array[1], array[0]]\n",
    "        else:\n",
    "            return array\n",
    "        \n",
    "    else:\n",
    "        pivot = np.random.randint(0, length)\n",
    "        small = []\n",
    "        large = []\n",
    "        \n",
    "        for element in array[:pivot]:\n",
    "            if element < array[pivot]:\n",
    "                small.append(element)\n",
    "            else:\n",
    "                large.append(element)\n",
    "                \n",
    "        for element in array[pivot+1:]:\n",
    "            if element < array[pivot]:\n",
    "                small.append(element)\n",
    "            else:\n",
    "                large.append(element)\n",
    "                \n",
    "        if not small:\n",
    "            return [array[pivot]] + quick_sort(large)\n",
    "        elif not large:\n",
    "            return quick_sort(small) + [array[pivot]]\n",
    "        else:\n",
    "            return quick_sort(small) + [array[pivot]] + quick_sort(large)"
   ]
  },
  {
   "cell_type": "code",
   "execution_count": 3,
   "metadata": {},
   "outputs": [
    {
     "data": {
      "text/plain": [
       "[0.001983384845115621,\n",
       " 0.005825720260658085,\n",
       " 0.03318390539317573,\n",
       " 0.504743817634934,\n",
       " 0.5816558586914614,\n",
       " 0.6632643693467059,\n",
       " 0.6786321946660155,\n",
       " 0.6834293906284173,\n",
       " 0.7308913594065719,\n",
       " 0.7791337093237005,\n",
       " 0.7840148158493352,\n",
       " 0.812162345240724,\n",
       " 0.8299578541419459,\n",
       " 0.9761686960401872,\n",
       " 0.9930973335603194]"
      ]
     },
     "execution_count": 3,
     "metadata": {},
     "output_type": "execute_result"
    }
   ],
   "source": [
    "quick_sort(np.random.rand(15))"
   ]
  },
  {
   "cell_type": "markdown",
   "metadata": {},
   "source": [
    "## Quick Sort in-Place"
   ]
  },
  {
   "cell_type": "code",
   "execution_count": 94,
   "metadata": {},
   "outputs": [],
   "source": [
    "def quick_sort_in_place(array, start, end):\n",
    "    if start < end:\n",
    "        \n",
    "        if start + 1 == end:\n",
    "            if array[start] > array[end]:\n",
    "                larger = array[start]\n",
    "                array[start] = array[end]\n",
    "                array[end] = larger\n",
    "        \n",
    "        pivot = np.random.randint(start, end+1)\n",
    "        pivot_value = array[pivot]\n",
    "        \n",
    "        array = np.insert(array, end+1, pivot_value)\n",
    "        array = np.delete(array, pivot)\n",
    "        \n",
    "        border = start - 1\n",
    "        \n",
    "        for i in range(start, end):\n",
    "            if array[i] < pivot_value:\n",
    "                border += 1\n",
    "                border_value = array[i]\n",
    "                array[i] = array[border]\n",
    "                array[border] = border_value\n",
    "        array = np.insert(array, border+1, pivot_value)\n",
    "        array = np.delete(array, end+1)\n",
    "        \n",
    "        array = quick_sort_in_place(array, start, border+1)\n",
    "        array = quick_sort_in_place(array, border+2, end)\n",
    "\n",
    "    return array"
   ]
  },
  {
   "cell_type": "markdown",
   "metadata": {},
   "source": [
    "## Merge Sort"
   ]
  },
  {
   "cell_type": "code",
   "execution_count": 100,
   "metadata": {},
   "outputs": [],
   "source": [
    "def merge_sort(array):\n",
    "    \n",
    "    length = len(array)\n",
    "    \n",
    "    if length == 2:\n",
    "        if array[0] > array[1]:\n",
    "            return np.array([array[1], array[0]])\n",
    "        else:\n",
    "            return array\n",
    "    \n",
    "    elif length > 2:\n",
    "        array_l = array[:int(length/2)]\n",
    "        array_r = array[int(length/2):]\n",
    "        array_l_sorted = merge_sort(array_l)\n",
    "        array_r_sorted = merge_sort(array_r)\n",
    "\n",
    "        l = 0\n",
    "        r = 0\n",
    "        \n",
    "        sorted_list = []\n",
    "        \n",
    "        for i in range(length):\n",
    "            if r == int(length/2):\n",
    "                sorted_list.append(array_l_sorted[l])\n",
    "                l += 1\n",
    "\n",
    "            elif l == int(length/2):\n",
    "                sorted_list.append(array_r_sorted[r])\n",
    "                r += 1               \n",
    "                \n",
    "            elif array_l_sorted[l] > array_r_sorted[r]:\n",
    "                sorted_list.append(array_r_sorted[r])\n",
    "                r += 1\n",
    "                \n",
    "            elif array_l_sorted[l] < array_r_sorted[r]:\n",
    "                sorted_list.append(array_l_sorted[l])\n",
    "                l += 1\n",
    "        \n",
    "        return np.array(sorted_list)"
   ]
  },
  {
   "cell_type": "code",
   "execution_count": 101,
   "metadata": {},
   "outputs": [
    {
     "data": {
      "text/plain": [
       "array([0.1067768 , 0.20867923, 0.21699119, 0.28261157, 0.28370455,\n",
       "       0.29779172, 0.35789725, 0.37975783, 0.45708774, 0.45881399,\n",
       "       0.54425445, 0.61926326, 0.65951861, 0.66592641, 0.75352339,\n",
       "       0.82396627])"
      ]
     },
     "execution_count": 101,
     "metadata": {},
     "output_type": "execute_result"
    }
   ],
   "source": [
    "merge_sort(np.random.rand(16))"
   ]
  },
  {
   "cell_type": "markdown",
   "metadata": {},
   "source": [
    "## Insertion Sort"
   ]
  },
  {
   "cell_type": "code",
   "execution_count": 102,
   "metadata": {},
   "outputs": [],
   "source": [
    "def insertion_sort(array):\n",
    "    for j in range(1, len(array)):\n",
    "        key = array[j]\n",
    "        i = j - 1\n",
    "        while i >= 0 and array[i] > key:\n",
    "            array[i+1] = array[i]\n",
    "            i -= 1\n",
    "        array[i+1] = key\n",
    "    return array"
   ]
  },
  {
   "cell_type": "markdown",
   "metadata": {},
   "source": [
    "## Performance Check"
   ]
  },
  {
   "cell_type": "code",
   "execution_count": 104,
   "metadata": {
    "scrolled": true
   },
   "outputs": [
    {
     "name": "stdout",
     "output_type": "stream",
     "text": [
      "i=2: completed\n",
      "i=3: completed\n",
      "i=4: completed\n",
      "i=5: completed\n",
      "i=6: completed\n",
      "i=7: completed\n",
      "i=8: completed\n",
      "i=9: completed\n",
      "i=10: completed\n",
      "i=11: completed\n",
      "i=12: completed\n",
      "i=13: completed\n",
      "i=14: completed\n"
     ]
    }
   ],
   "source": [
    "time_list = []\n",
    "for i in range(2, 15):\n",
    "    Z = np.random.rand(2**i)\n",
    "    \n",
    "    start_time = time.time()\n",
    "    insertion_sort(Z)\n",
    "    insertion = time.time() - start_time\n",
    "    \n",
    "    start_time = time.time()\n",
    "    merge_sort(Z)\n",
    "    merge = time.time() - start_time\n",
    "    \n",
    "    start_time = time.time()\n",
    "    quick_sort(Z)\n",
    "    quick = time.time() - start_time    \n",
    "    \n",
    "    start_time = time.time()\n",
    "    quick_sort_in_place(Z, 0, len(Z)-1)\n",
    "    quick_ip = time.time() - start_time    \n",
    "    \n",
    "    time_list.append([insertion, merge, quick, quick_ip])\n",
    "    print(\"i={}: completed\".format(i))"
   ]
  },
  {
   "cell_type": "code",
   "execution_count": 111,
   "metadata": {},
   "outputs": [
    {
     "data": {
      "image/png": "[encoded data removed]",
      "text/plain": [
       "<Figure size 864x345.6 with 1 Axes>"
      ]
     },
     "metadata": {
      "needs_background": "light"
     },
     "output_type": "display_data"
    }
   ],
   "source": [
    "time_df = pd.DataFrame(time_list, index=range(2, 15), columns=[\"insertion\", \"merge\", \"quick\", \"quick_in_place\"])\n",
    "time_df.plot(figsize=(12, 4.8))\n",
    "\n",
    "plt.title(\"Sorting Algorithms\", fontsize=36)\n",
    "plt.legend([\"Insertion Sort\", \"Merge Sort\", \"Quick Sort\", \"Quick Sort (in Place)\"], fontsize=18)\n",
    "plt.xlabel(\"Sample Size\", fontsize = 24)\n",
    "plt.xticks(np.arange(2, 15, 2), labels = [\"2^{}\".format(i) for i in range(2, 15, 2)], fontsize=15)\n",
    "plt.yticks(fontsize=15)\n",
    "plt.yscale(\"log\", basey=2)\n",
    "plt.ylabel(\"Execution Time (Second)\", fontsize = 24)\n",
    "plt.savefig(\"image/insertion_quick_merge_sort.png\")\n",
    "plt.show()"
   ]
  },
  {
   "cell_type": "code",
   "execution_count": 112,
   "metadata": {},
   "outputs": [
    {
     "data": {
      "text/html": [
       "<div>\n",
       "<style scoped>\n",
       "    .dataframe tbody tr th:only-of-type {\n",
       "        vertical-align: middle;\n",
       "    }\n",
       "\n",
       "    .dataframe tbody tr th {\n",
       "        vertical-align: top;\n",
       "    }\n",
       "\n",
       "    .dataframe thead th {\n",
       "        text-align: right;\n",
       "    }\n",
       "</style>\n",
       "<table border=\"1\" class=\"dataframe\">\n",
       "  <thead>\n",
       "    <tr style=\"text-align: right;\">\n",
       "      <th></th>\n",
       "      <th>insertion</th>\n",
       "      <th>merge</th>\n",
       "      <th>quick</th>\n",
       "      <th>quick_in_place</th>\n",
       "    </tr>\n",
       "  </thead>\n",
       "  <tbody>\n",
       "    <tr>\n",
       "      <th>2</th>\n",
       "      <td>0.000015</td>\n",
       "      <td>0.000026</td>\n",
       "      <td>0.000032</td>\n",
       "      <td>0.001894</td>\n",
       "    </tr>\n",
       "    <tr>\n",
       "      <th>3</th>\n",
       "      <td>0.000029</td>\n",
       "      <td>0.000081</td>\n",
       "      <td>0.000059</td>\n",
       "      <td>0.002477</td>\n",
       "    </tr>\n",
       "    <tr>\n",
       "      <th>4</th>\n",
       "      <td>0.000050</td>\n",
       "      <td>0.000099</td>\n",
       "      <td>0.000061</td>\n",
       "      <td>0.004742</td>\n",
       "    </tr>\n",
       "    <tr>\n",
       "      <th>5</th>\n",
       "      <td>0.000169</td>\n",
       "      <td>0.000941</td>\n",
       "      <td>0.000259</td>\n",
       "      <td>0.009749</td>\n",
       "    </tr>\n",
       "    <tr>\n",
       "      <th>6</th>\n",
       "      <td>0.000485</td>\n",
       "      <td>0.000561</td>\n",
       "      <td>0.000212</td>\n",
       "      <td>0.008812</td>\n",
       "    </tr>\n",
       "    <tr>\n",
       "      <th>7</th>\n",
       "      <td>0.002190</td>\n",
       "      <td>0.001182</td>\n",
       "      <td>0.000532</td>\n",
       "      <td>0.021297</td>\n",
       "    </tr>\n",
       "    <tr>\n",
       "      <th>8</th>\n",
       "      <td>0.009785</td>\n",
       "      <td>0.002885</td>\n",
       "      <td>0.000814</td>\n",
       "      <td>0.033351</td>\n",
       "    </tr>\n",
       "    <tr>\n",
       "      <th>9</th>\n",
       "      <td>0.033829</td>\n",
       "      <td>0.005195</td>\n",
       "      <td>0.001691</td>\n",
       "      <td>0.071583</td>\n",
       "    </tr>\n",
       "    <tr>\n",
       "      <th>10</th>\n",
       "      <td>0.133462</td>\n",
       "      <td>0.013922</td>\n",
       "      <td>0.003716</td>\n",
       "      <td>0.154096</td>\n",
       "    </tr>\n",
       "    <tr>\n",
       "      <th>11</th>\n",
       "      <td>0.599044</td>\n",
       "      <td>0.033334</td>\n",
       "      <td>0.011096</td>\n",
       "      <td>0.343447</td>\n",
       "    </tr>\n",
       "    <tr>\n",
       "      <th>12</th>\n",
       "      <td>2.119752</td>\n",
       "      <td>0.060678</td>\n",
       "      <td>0.016765</td>\n",
       "      <td>0.624164</td>\n",
       "    </tr>\n",
       "    <tr>\n",
       "      <th>13</th>\n",
       "      <td>8.293532</td>\n",
       "      <td>0.130524</td>\n",
       "      <td>0.038338</td>\n",
       "      <td>1.370022</td>\n",
       "    </tr>\n",
       "    <tr>\n",
       "      <th>14</th>\n",
       "      <td>33.521504</td>\n",
       "      <td>0.287338</td>\n",
       "      <td>0.074470</td>\n",
       "      <td>3.722577</td>\n",
       "    </tr>\n",
       "  </tbody>\n",
       "</table>\n",
       "</div>"
      ],
      "text/plain": [
       "    insertion     merge     quick  quick_in_place\n",
       "2    0.000015  0.000026  0.000032        0.001894\n",
       "3    0.000029  0.000081  0.000059        0.002477\n",
       "4    0.000050  0.000099  0.000061        0.004742\n",
       "5    0.000169  0.000941  0.000259        0.009749\n",
       "6    0.000485  0.000561  0.000212        0.008812\n",
       "7    0.002190  0.001182  0.000532        0.021297\n",
       "8    0.009785  0.002885  0.000814        0.033351\n",
       "9    0.033829  0.005195  0.001691        0.071583\n",
       "10   0.133462  0.013922  0.003716        0.154096\n",
       "11   0.599044  0.033334  0.011096        0.343447\n",
       "12   2.119752  0.060678  0.016765        0.624164\n",
       "13   8.293532  0.130524  0.038338        1.370022\n",
       "14  33.521504  0.287338  0.074470        3.722577"
      ]
     },
     "execution_count": 112,
     "metadata": {},
     "output_type": "execute_result"
    }
   ],
   "source": [
    "time_df"
   ]
  },
  {
   "cell_type": "code",
   "execution_count": 72,
   "metadata": {},
   "outputs": [
    {
     "name": "stdout",
     "output_type": "stream",
     "text": [
      "10.0% completed\n",
      "20.0% completed\n",
      "30.0% completed\n",
      "40.0% completed\n",
      "50.0% completed\n",
      "60.0% completed\n",
      "70.0% completed\n",
      "80.0% completed\n",
      "90.0% completed\n",
      "100.0% completed\n"
     ]
    }
   ],
   "source": [
    "time_list = []\n",
    "for i in range(1000):\n",
    "    Z = np.random.rand(2**10)\n",
    "    \n",
    "    start_time = time.time()\n",
    "    merge_sort(Z)\n",
    "    merge = time.time() - start_time\n",
    "    \n",
    "    start_time = time.time()\n",
    "    quick_sort(Z)\n",
    "    quick = time.time() - start_time  \n",
    "    \n",
    "    time_list.append([merge, quick])\n",
    "    \n",
    "    if (i+1) % 100 == 0:\n",
    "        print(\"{}% completed\".format((i+1)/10))"
   ]
  },
  {
   "cell_type": "code",
   "execution_count": 74,
   "metadata": {},
   "outputs": [
    {
     "data": {
      "image/png": "[encoded data removed]",
      "text/plain": [
       "<Figure size 864x432 with 1 Axes>"
      ]
     },
     "metadata": {
      "needs_background": "light"
     },
     "output_type": "display_data"
    }
   ],
   "source": [
    "trial_df = pd.DataFrame(time_list, columns=[\"merge\", \"quick\"])\n",
    "plt.figure(figsize=(12, 6))\n",
    "plt.hist(trial_df[\"merge\"], bins=20, density=True)\n",
    "plt.hist(trial_df[\"quick\"], bins=20, density=True)\n",
    "plt.legend([\"Merge Sort\", \"Quick Sort\"], fontsize=24)\n",
    "\n",
    "plt.title(\"Sorting Algorithms\", fontsize=36)\n",
    "plt.xlabel(\"Execution Time (Second)\", fontsize = 24)\n",
    "plt.xticks(fontsize=15)\n",
    "plt.yticks(fontsize=15)\n",
    "plt.ylabel(\"Density\", fontsize = 24)\n",
    "\n",
    "plt.show()"
   ]
  },
  {
   "cell_type": "code",
   "execution_count": 76,
   "metadata": {},
   "outputs": [
    {
     "data": {
      "text/html": [
       "<div>\n",
       "<style scoped>\n",
       "    .dataframe tbody tr th:only-of-type {\n",
       "        vertical-align: middle;\n",
       "    }\n",
       "\n",
       "    .dataframe tbody tr th {\n",
       "        vertical-align: top;\n",
       "    }\n",
       "\n",
       "    .dataframe thead th {\n",
       "        text-align: right;\n",
       "    }\n",
       "</style>\n",
       "<table border=\"1\" class=\"dataframe\">\n",
       "  <thead>\n",
       "    <tr style=\"text-align: right;\">\n",
       "      <th></th>\n",
       "      <th>merge</th>\n",
       "      <th>quick</th>\n",
       "    </tr>\n",
       "  </thead>\n",
       "  <tbody>\n",
       "    <tr>\n",
       "      <th>count</th>\n",
       "      <td>1000.000000</td>\n",
       "      <td>1000.000000</td>\n",
       "    </tr>\n",
       "    <tr>\n",
       "      <th>mean</th>\n",
       "      <td>0.019646</td>\n",
       "      <td>0.004610</td>\n",
       "    </tr>\n",
       "    <tr>\n",
       "      <th>std</th>\n",
       "      <td>0.004028</td>\n",
       "      <td>0.001143</td>\n",
       "    </tr>\n",
       "    <tr>\n",
       "      <th>min</th>\n",
       "      <td>0.016365</td>\n",
       "      <td>0.003724</td>\n",
       "    </tr>\n",
       "    <tr>\n",
       "      <th>25%</th>\n",
       "      <td>0.017315</td>\n",
       "      <td>0.003959</td>\n",
       "    </tr>\n",
       "    <tr>\n",
       "      <th>50%</th>\n",
       "      <td>0.018123</td>\n",
       "      <td>0.004157</td>\n",
       "    </tr>\n",
       "    <tr>\n",
       "      <th>75%</th>\n",
       "      <td>0.020002</td>\n",
       "      <td>0.004827</td>\n",
       "    </tr>\n",
       "    <tr>\n",
       "      <th>max</th>\n",
       "      <td>0.047073</td>\n",
       "      <td>0.017625</td>\n",
       "    </tr>\n",
       "  </tbody>\n",
       "</table>\n",
       "</div>"
      ],
      "text/plain": [
       "             merge        quick\n",
       "count  1000.000000  1000.000000\n",
       "mean      0.019646     0.004610\n",
       "std       0.004028     0.001143\n",
       "min       0.016365     0.003724\n",
       "25%       0.017315     0.003959\n",
       "50%       0.018123     0.004157\n",
       "75%       0.020002     0.004827\n",
       "max       0.047073     0.017625"
      ]
     },
     "execution_count": 76,
     "metadata": {},
     "output_type": "execute_result"
    }
   ],
   "source": [
    "trial_df.describe()"
   ]
  },
  {
   "cell_type": "code",
   "execution_count": null,
   "metadata": {},
   "outputs": [],
   "source": []
  }
 ],
 "metadata": {
  "kernelspec": {
   "display_name": "Python 3",
   "language": "python",
   "name": "python3"
  },
  "language_info": {
   "codemirror_mode": {
    "name": "ipython",
    "version": 3
   },
   "file_extension": ".py",
   "mimetype": "text/x-python",
   "name": "python",
   "nbconvert_exporter": "python",
   "pygments_lexer": "ipython3",
   "version": "3.7.3"
  }
 },
 "nbformat": 4,
 "nbformat_minor": 2
}
