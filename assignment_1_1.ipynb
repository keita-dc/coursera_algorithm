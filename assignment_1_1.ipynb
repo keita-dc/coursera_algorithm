{
 "cells": [
  {
   "cell_type": "markdown",
   "metadata": {},
   "source": [
    "# Programming Assignment #1"
   ]
  },
  {
   "cell_type": "markdown",
   "metadata": {},
   "source": [
    "In this programming assignment you will implement one or more of the integer multiplication algorithms described in lecture.\n",
    "\n",
    "To get the most out of this assignment, your program should restrict itself to multiplying only pairs of single-digit numbers. You can implement the grade-school algorithm if you want, but to get the most out of the assignment you'll want to implement recursive integer multiplication and/or Karatsuba's algorithm.\n",
    "\n",
    "So: what's the product of the following two 64-digit numbers?\n",
    "\n",
    "3141592653589793238462643383279502884197169399375105820974944592\n",
    "\n",
    "2718281828459045235360287471352662497757247093699959574966967627\n",
    "\n",
    "[TIP: before submitting, first test the correctness of your program on some small test cases of your own devising. Then post your best test cases to the discussion forums to help your fellow students!]\n",
    "\n",
    "[Food for thought: the number of digits in each input number is a power of 2. Does this make your life easier? Does it depend on which algorithm you're implementing?]\n",
    "\n",
    "The numeric answer should be typed in the space below. So if your answer is 1198233847, then just type 1198233847 in the space provided without any space / commas / any other punctuation marks.\n",
    "\n",
    "(We do not require you to submit your code, so feel free to use any programming language you want --- just type the final numeric answer in the following space.)"
   ]
  },
  {
   "cell_type": "code",
   "execution_count": 20,
   "metadata": {},
   "outputs": [],
   "source": [
    "import numpy as np"
   ]
  },
  {
   "cell_type": "code",
   "execution_count": 1,
   "metadata": {},
   "outputs": [],
   "source": [
    "k = 3141592653589793238462643383279502884197169399375105820974944592\n",
    "l = 2718281828459045235360287471352662497757247093699959574966967627"
   ]
  },
  {
   "cell_type": "code",
   "execution_count": 27,
   "metadata": {},
   "outputs": [
    {
     "data": {
      "text/plain": [
       "64.0"
      ]
     },
     "execution_count": 27,
     "metadata": {},
     "output_type": "execute_result"
    }
   ],
   "source": [
    "np.ceil(np.log10(float(k)))"
   ]
  },
  {
   "cell_type": "code",
   "execution_count": 28,
   "metadata": {},
   "outputs": [
    {
     "data": {
      "text/plain": [
       "6.0"
      ]
     },
     "execution_count": 28,
     "metadata": {},
     "output_type": "execute_result"
    }
   ],
   "source": [
    "np.log2(np.ceil(np.log10(float(k))))"
   ]
  },
  {
   "cell_type": "code",
   "execution_count": 53,
   "metadata": {},
   "outputs": [
    {
     "name": "stdout",
     "output_type": "stream",
     "text": [
      "CPU times: user 4 µs, sys: 1 µs, total: 5 µs\n",
      "Wall time: 9.78 µs\n"
     ]
    },
    {
     "data": {
      "text/plain": [
       "8539734222673567065463550869546574495034888535765114961879601127067743044893204848617875072216249073013374895871952806582723184"
      ]
     },
     "execution_count": 53,
     "metadata": {},
     "output_type": "execute_result"
    }
   ],
   "source": [
    "# recursive method\n",
    "\n",
    "%time\n",
    "total = 0\n",
    "for i in range(int(np.ceil(np.log10(float(k))))):\n",
    "    for j in range(int(np.ceil(np.log10(float(l))))):\n",
    "        total += (k//(10**i)%10) * (l//(10**j)%10) * (10 ** (i+j))\n",
    "total"
   ]
  },
  {
   "cell_type": "code",
   "execution_count": 15,
   "metadata": {},
   "outputs": [],
   "source": [
    "def katsuraba(x, y):\n",
    "    n = np.ceil(np.log10(float(x)))\n",
    "    x1 = x // (10**round(n/2))\n",
    "    x2 = x % (10**round(n/2))\n",
    "    y1 = y // (10**round(n/2))\n",
    "    y2 = y % (10**round(n/2))\n",
    "    a = x1 * y1\n",
    "    b = x2 * y2\n",
    "    c = (x1+x2) * (y1+y2) - a - b\n",
    "    \n",
    "    return a * ((10**round(n/2))**2) + b + c *(10**round(n/2))"
   ]
  },
  {
   "cell_type": "code",
   "execution_count": 40,
   "metadata": {},
   "outputs": [],
   "source": [
    "def recursive_katsuraba_4(x, y):\n",
    "    n = np.ceil(np.log10(float(x)))\n",
    "    x1 = x // (10**round(n/2))\n",
    "    x2 = x % (10**round(n/2))\n",
    "    y1 = y // (10**round(n/2))\n",
    "    y2 = y % (10**round(n/2))\n",
    "    a = katsuraba(x1, y1)\n",
    "    b = katsuraba(x2, y2)\n",
    "    c = katsuraba(x1+x2, y1+y2) - a - b\n",
    "    \n",
    "    return a * ((10**round(n/2))**2) + b + c *(10**round(n/2))"
   ]
  },
  {
   "cell_type": "code",
   "execution_count": 46,
   "metadata": {},
   "outputs": [],
   "source": [
    "def recursive_katsuraba_8(x, y):\n",
    "    n = np.ceil(np.log10(float(x)))\n",
    "    x1 = x // (10**round(n/2))\n",
    "    x2 = x % (10**round(n/2))\n",
    "    y1 = y // (10**round(n/2))\n",
    "    y2 = y % (10**round(n/2))\n",
    "    a = recursive_katsuraba_4(x1, y1)\n",
    "    b = recursive_katsuraba_4(x2, y2)\n",
    "    c = recursive_katsuraba_4(x1+x2, y1+y2) - a - b\n",
    "    \n",
    "    return a * ((10**round(n/2))**2) + b + c *(10**round(n/2))"
   ]
  },
  {
   "cell_type": "code",
   "execution_count": 47,
   "metadata": {},
   "outputs": [],
   "source": [
    "def recursive_katsuraba_16(x, y):\n",
    "    n = np.ceil(np.log10(float(x)))\n",
    "    x1 = x // (10**round(n/2))\n",
    "    x2 = x % (10**round(n/2))\n",
    "    y1 = y // (10**round(n/2))\n",
    "    y2 = y % (10**round(n/2))\n",
    "    a = recursive_katsuraba_8(x1, y1)\n",
    "    b = recursive_katsuraba_8(x2, y2)\n",
    "    c = recursive_katsuraba_8(x1+x2, y1+y2) - a - b\n",
    "    \n",
    "    return a * ((10**round(n/2))**2) + b + c *(10**round(n/2))"
   ]
  },
  {
   "cell_type": "code",
   "execution_count": 48,
   "metadata": {},
   "outputs": [],
   "source": [
    "def recursive_katsuraba_32(x, y):\n",
    "    n = np.ceil(np.log10(float(x)))\n",
    "    x1 = x // (10**round(n/2))\n",
    "    x2 = x % (10**round(n/2))\n",
    "    y1 = y // (10**round(n/2))\n",
    "    y2 = y % (10**round(n/2))\n",
    "    a = recursive_katsuraba_16(x1, y1)\n",
    "    b = recursive_katsuraba_16(x2, y2)\n",
    "    c = recursive_katsuraba_16(x1+x2, y1+y2) - a - b\n",
    "    \n",
    "    return a * ((10**round(n/2))**2) + b + c *(10**round(n/2))"
   ]
  },
  {
   "cell_type": "code",
   "execution_count": 49,
   "metadata": {},
   "outputs": [],
   "source": [
    "def recursive_katsuraba_64(x, y):\n",
    "    n = np.ceil(np.log10(float(x)))\n",
    "    x1 = x // (10**round(n/2))\n",
    "    x2 = x % (10**round(n/2))\n",
    "    y1 = y // (10**round(n/2))\n",
    "    y2 = y % (10**round(n/2))\n",
    "    a = recursive_katsuraba_32(x1, y1)\n",
    "    b = recursive_katsuraba_32(x2, y2)\n",
    "    c = recursive_katsuraba_32(x1+x2, y1+y2) - a - b\n",
    "    \n",
    "    return a * ((10**round(n/2))**2) + b + c *(10**round(n/2))"
   ]
  },
  {
   "cell_type": "code",
   "execution_count": 52,
   "metadata": {},
   "outputs": [
    {
     "name": "stdout",
     "output_type": "stream",
     "text": [
      "CPU times: user 4 µs, sys: 1 µs, total: 5 µs\n",
      "Wall time: 9.06 µs\n"
     ]
    },
    {
     "data": {
      "text/plain": [
       "8.539734222673567e+126"
      ]
     },
     "execution_count": 52,
     "metadata": {},
     "output_type": "execute_result"
    }
   ],
   "source": [
    "%time\n",
    "recursive_katsuraba_64(k, l)"
   ]
  },
  {
   "cell_type": "code",
   "execution_count": null,
   "metadata": {},
   "outputs": [],
   "source": []
  }
 ],
 "metadata": {
  "kernelspec": {
   "display_name": "Python 3",
   "language": "python",
   "name": "python3"
  },
  "language_info": {
   "codemirror_mode": {
    "name": "ipython",
    "version": 3
   },
   "file_extension": ".py",
   "mimetype": "text/x-python",
   "name": "python",
   "nbconvert_exporter": "python",
   "pygments_lexer": "ipython3",
   "version": "3.7.3"
  }
 },
 "nbformat": 4,
 "nbformat_minor": 2
}
