{
 "cells": [
  {
   "cell_type": "markdown",
   "metadata": {},
   "source": [
    "## Heap Sort"
   ]
  },
  {
   "cell_type": "code",
   "execution_count": 1,
   "metadata": {},
   "outputs": [],
   "source": [
    "import numpy as np\n",
    "import pandas as pd\n",
    "import matplotlib.pyplot as plt\n",
    "import networkx as nx\n",
    "\n",
    "import time\n",
    "\n",
    "plt.style.use(\"ggplot\")\n",
    "\n",
    "%matplotlib inline"
   ]
  },
  {
   "cell_type": "markdown",
   "metadata": {},
   "source": [
    "## Max-Heapify"
   ]
  },
  {
   "cell_type": "code",
   "execution_count": 30,
   "metadata": {},
   "outputs": [],
   "source": [
    "def max_heapify(array, i):\n",
    "    l = (i+1) * 2 - 1\n",
    "    r = (i+1) * 2\n",
    "    length = len(array)\n",
    "\n",
    "    if l < length and array[l] > array[i]:\n",
    "        largest = l\n",
    "    else: \n",
    "        largest = i\n",
    "    \n",
    "    if r < length and array[r] > array[largest]:\n",
    "        largest = r\n",
    "        \n",
    "    if largest != i:\n",
    "        largest_value = array[largest]\n",
    "        array[largest] = array[i]\n",
    "        array[i] = largest_value\n",
    "        max_heapify(array, largest)\n",
    "        \n",
    "    return array"
   ]
  },
  {
   "cell_type": "markdown",
   "metadata": {},
   "source": [
    "## Build Max Heap"
   ]
  },
  {
   "cell_type": "code",
   "execution_count": 51,
   "metadata": {},
   "outputs": [],
   "source": [
    "def build_max_heap(array):\n",
    "    length = len(array)\n",
    "    for i in range(length//2, -1, -1):\n",
    "        max_heapify(array, i)\n",
    "\n",
    "    return array"
   ]
  },
  {
   "cell_type": "markdown",
   "metadata": {},
   "source": [
    "## Heap Sort"
   ]
  },
  {
   "cell_type": "code",
   "execution_count": 52,
   "metadata": {},
   "outputs": [],
   "source": [
    "def heap_sort(array):\n",
    "    length = len(array)\n",
    "    array = build_max_heap(array)\n",
    "    for i in range(length-1, 0, -1):\n",
    "        largest = array[0]\n",
    "        array[0] = array[i]\n",
    "        array[i] = largest\n",
    "        max_heapify(array[:i], 0)\n",
    "    return array"
   ]
  },
  {
   "cell_type": "code",
   "execution_count": 50,
   "metadata": {},
   "outputs": [
    {
     "name": "stdout",
     "output_type": "stream",
     "text": [
      "7\n",
      "6\n",
      "5\n",
      "4\n",
      "3\n",
      "2\n",
      "1\n",
      "0\n"
     ]
    },
    {
     "data": {
      "text/plain": [
       "array([0.05717317, 0.09741322, 0.12184715, 0.35424505, 0.36186134,\n",
       "       0.39432809, 0.4504272 , 0.56441637, 0.59859244, 0.70453766,\n",
       "       0.76890442, 0.87283403, 0.89901785, 0.91410076, 0.96410848])"
      ]
     },
     "execution_count": 50,
     "metadata": {},
     "output_type": "execute_result"
    }
   ],
   "source": [
    "heap_sort(X)"
   ]
  },
  {
   "cell_type": "code",
   "execution_count": null,
   "metadata": {},
   "outputs": [],
   "source": []
  }
 ],
 "metadata": {
  "kernelspec": {
   "display_name": "Python 3",
   "language": "python",
   "name": "python3"
  },
  "language_info": {
   "codemirror_mode": {
    "name": "ipython",
    "version": 3
   },
   "file_extension": ".py",
   "mimetype": "text/x-python",
   "name": "python",
   "nbconvert_exporter": "python",
   "pygments_lexer": "ipython3",
   "version": "3.7.3"
  }
 },
 "nbformat": 4,
 "nbformat_minor": 2
}
